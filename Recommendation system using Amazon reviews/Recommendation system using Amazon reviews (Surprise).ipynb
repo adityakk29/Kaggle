{
 "cells": [
  {
   "cell_type": "markdown",
   "metadata": {
    "id": "SCkyVfQfcID_"
   },
   "source": [
    "# Import all necessary libraries"
   ]
  },
  {
   "cell_type": "code",
   "execution_count": 70,
   "metadata": {
    "id": "SOFO5FcczSLu"
   },
   "outputs": [],
   "source": [
    "import os\n",
    "import numpy as np  \n",
    "import pandas as pd\n",
    "import matplotlib.pyplot as plt\n",
    "import seaborn as sns\n",
    "\n",
    "from surprise import KNNWithMeans\n",
    "from surprise import SVD\n",
    "from surprise import Dataset\n",
    "from surprise import Reader\n",
    "from surprise import accuracy\n",
    "from surprise.model_selection import train_test_split\n",
    "from surprise.model_selection.validation import cross_validate\n",
    "from collections import defaultdict"
   ]
  },
  {
   "cell_type": "code",
   "execution_count": 71,
   "metadata": {
    "colab": {
     "base_uri": "https://localhost:8080/",
     "height": 206
    },
    "id": "wxPkkO260VsX",
    "outputId": "31e4f434-972e-42d0-f738-b247f173193e"
   },
   "outputs": [
    {
     "data": {
      "text/html": [
       "<div>\n",
       "<style scoped>\n",
       "    .dataframe tbody tr th:only-of-type {\n",
       "        vertical-align: middle;\n",
       "    }\n",
       "\n",
       "    .dataframe tbody tr th {\n",
       "        vertical-align: top;\n",
       "    }\n",
       "\n",
       "    .dataframe thead th {\n",
       "        text-align: right;\n",
       "    }\n",
       "</style>\n",
       "<table border=\"1\" class=\"dataframe\">\n",
       "  <thead>\n",
       "    <tr style=\"text-align: right;\">\n",
       "      <th></th>\n",
       "      <th>user_id</th>\n",
       "      <th>product_id</th>\n",
       "      <th>ratings</th>\n",
       "    </tr>\n",
       "  </thead>\n",
       "  <tbody>\n",
       "    <tr>\n",
       "      <th>0</th>\n",
       "      <td>AKM1MP6P0OYPR</td>\n",
       "      <td>0132793040</td>\n",
       "      <td>5.0</td>\n",
       "    </tr>\n",
       "    <tr>\n",
       "      <th>1</th>\n",
       "      <td>A2CX7LUOHB2NDG</td>\n",
       "      <td>0321732944</td>\n",
       "      <td>5.0</td>\n",
       "    </tr>\n",
       "    <tr>\n",
       "      <th>2</th>\n",
       "      <td>A2NWSAGRHCP8N5</td>\n",
       "      <td>0439886341</td>\n",
       "      <td>1.0</td>\n",
       "    </tr>\n",
       "    <tr>\n",
       "      <th>3</th>\n",
       "      <td>A2WNBOD3WNDNKT</td>\n",
       "      <td>0439886341</td>\n",
       "      <td>3.0</td>\n",
       "    </tr>\n",
       "    <tr>\n",
       "      <th>4</th>\n",
       "      <td>A1GI0U4ZRJA8WN</td>\n",
       "      <td>0439886341</td>\n",
       "      <td>1.0</td>\n",
       "    </tr>\n",
       "  </tbody>\n",
       "</table>\n",
       "</div>"
      ],
      "text/plain": [
       "          user_id  product_id  ratings\n",
       "0   AKM1MP6P0OYPR  0132793040      5.0\n",
       "1  A2CX7LUOHB2NDG  0321732944      5.0\n",
       "2  A2NWSAGRHCP8N5  0439886341      1.0\n",
       "3  A2WNBOD3WNDNKT  0439886341      3.0\n",
       "4  A1GI0U4ZRJA8WN  0439886341      1.0"
      ]
     },
     "execution_count": 71,
     "metadata": {
      "tags": []
     },
     "output_type": "execute_result"
    }
   ],
   "source": [
    "df = pd.read_csv(\"/content/drive/MyDrive/GL/Recommendation/ratings_Electronics.csv\", names=[\"user_id\", \"product_id\", \"ratings\", \"timestamp\"])  \n",
    "df.drop(columns=[\"timestamp\"], inplace=True)\n",
    "df.head()"
   ]
  },
  {
   "cell_type": "code",
   "execution_count": 72,
   "metadata": {
    "colab": {
     "base_uri": "https://localhost:8080/"
    },
    "id": "bN89iHZBBcIY",
    "outputId": "ff82886d-0ddc-4c8f-8a9b-332a7f277f96"
   },
   "outputs": [
    {
     "name": "stdout",
     "output_type": "stream",
     "text": [
      "There are a total of 4201696 unique user_ids\n",
      "There are a total of 476002 unique product_ids\n"
     ]
    }
   ],
   "source": [
    "print(f\"There are a total of {df['user_id'].nunique()} unique user_ids\")\n",
    "print(f\"There are a total of {df['product_id'].nunique()} unique product_ids\")"
   ]
  },
  {
   "cell_type": "markdown",
   "metadata": {
    "id": "PwKoIAPGb4Da"
   },
   "source": [
    "This is a huge dataset so in order to prevent memory issue, we will reduce the dataset to 20% the original size."
   ]
  },
  {
   "cell_type": "code",
   "execution_count": 73,
   "metadata": {
    "id": "zDyUUMwQb1pz"
   },
   "outputs": [],
   "source": [
    "df = df.sort_values(by=\"user_id\").head(int(.2*df.shape[0]))"
   ]
  },
  {
   "cell_type": "code",
   "execution_count": 74,
   "metadata": {
    "colab": {
     "base_uri": "https://localhost:8080/"
    },
    "id": "vL4EJHllBfIT",
    "outputId": "c8e47b53-defb-4a95-c6fb-0bfe5eafc8c0"
   },
   "outputs": [
    {
     "name": "stdout",
     "output_type": "stream",
     "text": [
      "<class 'pandas.core.frame.DataFrame'>\n",
      "Int64Index: 1564896 entries, 3588866 to 2275059\n",
      "Data columns (total 3 columns):\n",
      " #   Column      Non-Null Count    Dtype  \n",
      "---  ------      --------------    -----  \n",
      " 0   user_id     1564896 non-null  object \n",
      " 1   product_id  1564896 non-null  object \n",
      " 2   ratings     1564896 non-null  float64\n",
      "dtypes: float64(1), object(2)\n",
      "memory usage: 47.8+ MB\n"
     ]
    }
   ],
   "source": [
    "df.info()"
   ]
  },
  {
   "cell_type": "code",
   "execution_count": 75,
   "metadata": {
    "colab": {
     "base_uri": "https://localhost:8080/"
    },
    "id": "L_2Vm9sDBw_A",
    "outputId": "7c6d56b3-af9a-453f-afe7-1ea3c13dc892"
   },
   "outputs": [
    {
     "data": {
      "text/plain": [
       "user_id       0\n",
       "product_id    0\n",
       "ratings       0\n",
       "dtype: int64"
      ]
     },
     "execution_count": 75,
     "metadata": {
      "tags": []
     },
     "output_type": "execute_result"
    }
   ],
   "source": [
    "df.isna().sum()"
   ]
  },
  {
   "cell_type": "markdown",
   "metadata": {
    "id": "Hkyy4UFygHB7"
   },
   "source": [
    "There are no null values in our dataset."
   ]
  },
  {
   "cell_type": "code",
   "execution_count": 76,
   "metadata": {
    "colab": {
     "base_uri": "https://localhost:8080/",
     "height": 300
    },
    "id": "NOedSxj40bf_",
    "outputId": "fadb47ab-cc94-4d12-d499-a6fc73f6ba02"
   },
   "outputs": [
    {
     "data": {
      "text/html": [
       "<div>\n",
       "<style scoped>\n",
       "    .dataframe tbody tr th:only-of-type {\n",
       "        vertical-align: middle;\n",
       "    }\n",
       "\n",
       "    .dataframe tbody tr th {\n",
       "        vertical-align: top;\n",
       "    }\n",
       "\n",
       "    .dataframe thead th {\n",
       "        text-align: right;\n",
       "    }\n",
       "</style>\n",
       "<table border=\"1\" class=\"dataframe\">\n",
       "  <thead>\n",
       "    <tr style=\"text-align: right;\">\n",
       "      <th></th>\n",
       "      <th>ratings</th>\n",
       "    </tr>\n",
       "  </thead>\n",
       "  <tbody>\n",
       "    <tr>\n",
       "      <th>count</th>\n",
       "      <td>1.564896e+06</td>\n",
       "    </tr>\n",
       "    <tr>\n",
       "      <th>mean</th>\n",
       "      <td>4.011600e+00</td>\n",
       "    </tr>\n",
       "    <tr>\n",
       "      <th>std</th>\n",
       "      <td>1.382083e+00</td>\n",
       "    </tr>\n",
       "    <tr>\n",
       "      <th>min</th>\n",
       "      <td>1.000000e+00</td>\n",
       "    </tr>\n",
       "    <tr>\n",
       "      <th>25%</th>\n",
       "      <td>3.000000e+00</td>\n",
       "    </tr>\n",
       "    <tr>\n",
       "      <th>50%</th>\n",
       "      <td>5.000000e+00</td>\n",
       "    </tr>\n",
       "    <tr>\n",
       "      <th>75%</th>\n",
       "      <td>5.000000e+00</td>\n",
       "    </tr>\n",
       "    <tr>\n",
       "      <th>max</th>\n",
       "      <td>5.000000e+00</td>\n",
       "    </tr>\n",
       "  </tbody>\n",
       "</table>\n",
       "</div>"
      ],
      "text/plain": [
       "            ratings\n",
       "count  1.564896e+06\n",
       "mean   4.011600e+00\n",
       "std    1.382083e+00\n",
       "min    1.000000e+00\n",
       "25%    3.000000e+00\n",
       "50%    5.000000e+00\n",
       "75%    5.000000e+00\n",
       "max    5.000000e+00"
      ]
     },
     "execution_count": 76,
     "metadata": {
      "tags": []
     },
     "output_type": "execute_result"
    }
   ],
   "source": [
    "df.describe()"
   ]
  },
  {
   "cell_type": "code",
   "execution_count": 77,
   "metadata": {
    "colab": {
     "base_uri": "https://localhost:8080/"
    },
    "id": "lw9xw6Wlguk3",
    "outputId": "9a4e21cb-a6db-4d42-b07e-7544bae393dd"
   },
   "outputs": [
    {
     "data": {
      "text/plain": [
       "product_id\n",
       "B00852X8B8    5.0\n",
       "B001MLBOJC    5.0\n",
       "B00805LAS8    5.0\n",
       "B00805O5AI    5.0\n",
       "B00805T0LW    5.0\n",
       "Name: ratings, dtype: float64"
      ]
     },
     "execution_count": 77,
     "metadata": {
      "tags": []
     },
     "output_type": "execute_result"
    }
   ],
   "source": [
    "df.groupby(\"product_id\")[\"ratings\"].mean().sort_values(ascending=False).head()"
   ]
  },
  {
   "cell_type": "markdown",
   "metadata": {
    "id": "T1KxMdF8hHla"
   },
   "source": [
    "The above products have an average rating of 5.0"
   ]
  },
  {
   "cell_type": "code",
   "execution_count": 78,
   "metadata": {
    "colab": {
     "base_uri": "https://localhost:8080/"
    },
    "id": "46uf9VG2g2PW",
    "outputId": "4477a0db-4e12-48ad-9e96-26ed12cdfad6"
   },
   "outputs": [
    {
     "data": {
      "text/plain": [
       "product_id\n",
       "B0074BW614    3665\n",
       "B00DR0PDNE    3271\n",
       "B007WTAJTO    2812\n",
       "B006GWO5WK    2460\n",
       "B0019EHU8G    2430\n",
       "Name: ratings, dtype: int64"
      ]
     },
     "execution_count": 78,
     "metadata": {
      "tags": []
     },
     "output_type": "execute_result"
    }
   ],
   "source": [
    "df.groupby(\"product_id\")[\"ratings\"].count().sort_values(ascending=False).head()  "
   ]
  },
  {
   "cell_type": "markdown",
   "metadata": {
    "id": "4_HVBQgPhNgr"
   },
   "source": [
    "The above products are the top 5 most rated products."
   ]
  },
  {
   "cell_type": "code",
   "execution_count": 79,
   "metadata": {
    "colab": {
     "base_uri": "https://localhost:8080/",
     "height": 424
    },
    "id": "0eulcTdC_dkJ",
    "outputId": "68c711df-1206-401c-a5d7-af6dc6e01a6a"
   },
   "outputs": [
    {
     "data": {
      "text/html": [
       "<div>\n",
       "<style scoped>\n",
       "    .dataframe tbody tr th:only-of-type {\n",
       "        vertical-align: middle;\n",
       "    }\n",
       "\n",
       "    .dataframe tbody tr th {\n",
       "        vertical-align: top;\n",
       "    }\n",
       "\n",
       "    .dataframe thead th {\n",
       "        text-align: right;\n",
       "    }\n",
       "</style>\n",
       "<table border=\"1\" class=\"dataframe\">\n",
       "  <thead>\n",
       "    <tr style=\"text-align: right;\">\n",
       "      <th></th>\n",
       "      <th>user_id</th>\n",
       "      <th>product_id</th>\n",
       "    </tr>\n",
       "  </thead>\n",
       "  <tbody>\n",
       "    <tr>\n",
       "      <th>755206</th>\n",
       "      <td>A1ODOGXEYECQQ8</td>\n",
       "      <td>380</td>\n",
       "    </tr>\n",
       "    <tr>\n",
       "      <th>229970</th>\n",
       "      <td>A17BUUBOU0598B</td>\n",
       "      <td>261</td>\n",
       "    </tr>\n",
       "    <tr>\n",
       "      <th>77779</th>\n",
       "      <td>A12DQZKRKTNF5E</td>\n",
       "      <td>252</td>\n",
       "    </tr>\n",
       "    <tr>\n",
       "      <th>392540</th>\n",
       "      <td>A1CMD08Z49PGKQ</td>\n",
       "      <td>221</td>\n",
       "    </tr>\n",
       "    <tr>\n",
       "      <th>595272</th>\n",
       "      <td>A1J75JJ0Q2OEJN</td>\n",
       "      <td>218</td>\n",
       "    </tr>\n",
       "    <tr>\n",
       "      <th>...</th>\n",
       "      <td>...</td>\n",
       "      <td>...</td>\n",
       "    </tr>\n",
       "    <tr>\n",
       "      <th>332416</th>\n",
       "      <td>A1ANLRYB668QP</td>\n",
       "      <td>1</td>\n",
       "    </tr>\n",
       "    <tr>\n",
       "      <th>332418</th>\n",
       "      <td>A1ANLTKULFA0MP</td>\n",
       "      <td>1</td>\n",
       "    </tr>\n",
       "    <tr>\n",
       "      <th>332422</th>\n",
       "      <td>A1ANLZNJ0T9SKR</td>\n",
       "      <td>1</td>\n",
       "    </tr>\n",
       "    <tr>\n",
       "      <th>332425</th>\n",
       "      <td>A1ANM4R0UK8GCO</td>\n",
       "      <td>1</td>\n",
       "    </tr>\n",
       "    <tr>\n",
       "      <th>840525</th>\n",
       "      <td>A1R55I63BMQKWU</td>\n",
       "      <td>1</td>\n",
       "    </tr>\n",
       "  </tbody>\n",
       "</table>\n",
       "<p>840526 rows × 2 columns</p>\n",
       "</div>"
      ],
      "text/plain": [
       "               user_id  product_id\n",
       "755206  A1ODOGXEYECQQ8         380\n",
       "229970  A17BUUBOU0598B         261\n",
       "77779   A12DQZKRKTNF5E         252\n",
       "392540  A1CMD08Z49PGKQ         221\n",
       "595272  A1J75JJ0Q2OEJN         218\n",
       "...                ...         ...\n",
       "332416   A1ANLRYB668QP           1\n",
       "332418  A1ANLTKULFA0MP           1\n",
       "332422  A1ANLZNJ0T9SKR           1\n",
       "332425  A1ANM4R0UK8GCO           1\n",
       "840525  A1R55I63BMQKWU           1\n",
       "\n",
       "[840526 rows x 2 columns]"
      ]
     },
     "execution_count": 79,
     "metadata": {
      "tags": []
     },
     "output_type": "execute_result"
    }
   ],
   "source": [
    "xx = df.groupby(\"user_id\")[\"product_id\"].count().reset_index().sort_values(by=\"product_id\", ascending=False)\n",
    "xx"
   ]
  },
  {
   "cell_type": "markdown",
   "metadata": {
    "id": "rsvWFESHAzd3"
   },
   "source": [
    "The user **A1ODOGXEYECQQ8** has given the maximum number of reviews."
   ]
  },
  {
   "cell_type": "code",
   "execution_count": 80,
   "metadata": {
    "colab": {
     "base_uri": "https://localhost:8080/",
     "height": 336
    },
    "id": "Q09OmHnb_XdT",
    "outputId": "f8cc666a-7650-4b30-b0b7-4b8e05718149"
   },
   "outputs": [
    {
     "name": "stderr",
     "output_type": "stream",
     "text": [
      "/usr/local/lib/python3.6/dist-packages/seaborn/_decorators.py:43: FutureWarning: Pass the following variable as a keyword arg: x. From version 0.12, the only valid positional argument will be `data`, and passing other arguments without an explicit keyword will result in an error or misinterpretation.\n",
      "  FutureWarning\n"
     ]
    },
    {
     "data": {
      "image/png": "[encoded data removed]",
      "text/plain": [
       "<Figure size 432x288 with 1 Axes>"
      ]
     },
     "metadata": {
      "needs_background": "light",
      "tags": []
     },
     "output_type": "display_data"
    }
   ],
   "source": [
    "sns.boxplot(df[\"ratings\"]);"
   ]
  },
  {
   "cell_type": "markdown",
   "metadata": {
    "id": "rb-h6TU-Aw_a"
   },
   "source": [
    "Most of the reviews are between 3 to 5 stars."
   ]
  },
  {
   "cell_type": "code",
   "execution_count": 81,
   "metadata": {
    "colab": {
     "base_uri": "https://localhost:8080/",
     "height": 279
    },
    "id": "hRyT0vSHchji",
    "outputId": "1c002818-9467-4e94-ae6b-0d277418cfab"
   },
   "outputs": [
    {
     "data": {
      "image/png": "[encoded data removed]",
      "text/plain": [
       "<Figure size 432x288 with 1 Axes>"
      ]
     },
     "metadata": {
      "needs_background": "light",
      "tags": []
     },
     "output_type": "display_data"
    }
   ],
   "source": [
    "sns.histplot(df['ratings']);"
   ]
  },
  {
   "cell_type": "markdown",
   "metadata": {
    "id": "Sp_K7oZDGSV4"
   },
   "source": [
    "## Create a subset of data with users who have given 50 or more ratings"
   ]
  },
  {
   "cell_type": "code",
   "execution_count": 82,
   "metadata": {
    "id": "yj2YN7ySCZ1z"
   },
   "outputs": [],
   "source": [
    "x = df.groupby([\"user_id\"])[\"product_id\"].count()\n",
    "df_train = df[df[\"user_id\"].isin(x[x>=50].reset_index()[\"user_id\"])]"
   ]
  },
  {
   "cell_type": "markdown",
   "metadata": {
    "id": "CmDz5NqbI_Rd"
   },
   "source": [
    "1. Read and explore the given dataset. ( Rename column/add headers, plot\n",
    "histograms, find data characteristics) ( 3 Marks)\n",
    "2. Take a subset of the dataset to make it less sparse/ denser. ( For example,\n",
    "keep the users only who has given 50 or more number of ratings ) -(5 Marks)\n",
    "3. Build Popularity Recommender model. ( 15 marks)\n",
    "4. Split the data randomly into a train and test dataset. ( For example, split it in\n",
    "70/30 ratio) ( 2 marks)\n",
    "5. Build Collaborative Filtering model. ( 20 marks)\n",
    "6. Evaluate the above model. ( Once the model is trained on the training data, it\n",
    "can be used to compute the error (like RMSE) on predictions made on the test\n",
    "data.) You can also use a different method to evaluate the models. ( 5 marks)\n",
    "7. Get top - K ( K = 5) recommendations. Since our goal is to recommend new\n",
    "products to each user based on his/her habits, we will recommend 5 new\n",
    "products. ( 10 marks)\n",
    "8. Summarise your insights. ( 10 marks)"
   ]
  },
  {
   "cell_type": "markdown",
   "metadata": {
    "id": "pGdXACBhgUyc"
   },
   "source": [
    "# Popularity based model"
   ]
  },
  {
   "cell_type": "code",
   "execution_count": 83,
   "metadata": {
    "colab": {
     "base_uri": "https://localhost:8080/",
     "height": 394
    },
    "id": "INoOeESxhuu0",
    "outputId": "d90d73ce-d3df-4b1c-f8dc-d8b2bb4ddf4d"
   },
   "outputs": [
    {
     "data": {
      "text/html": [
       "<div>\n",
       "<style scoped>\n",
       "    .dataframe tbody tr th:only-of-type {\n",
       "        vertical-align: middle;\n",
       "    }\n",
       "\n",
       "    .dataframe tbody tr th {\n",
       "        vertical-align: top;\n",
       "    }\n",
       "\n",
       "    .dataframe thead th {\n",
       "        text-align: right;\n",
       "    }\n",
       "</style>\n",
       "<table border=\"1\" class=\"dataframe\">\n",
       "  <thead>\n",
       "    <tr style=\"text-align: right;\">\n",
       "      <th></th>\n",
       "      <th>ratings</th>\n",
       "      <th>user_id</th>\n",
       "    </tr>\n",
       "    <tr>\n",
       "      <th>product_id</th>\n",
       "      <th></th>\n",
       "      <th></th>\n",
       "    </tr>\n",
       "  </thead>\n",
       "  <tbody>\n",
       "    <tr>\n",
       "      <th>B0074BW614</th>\n",
       "      <td>4.499591</td>\n",
       "      <td>3665</td>\n",
       "    </tr>\n",
       "    <tr>\n",
       "      <th>B00DR0PDNE</th>\n",
       "      <td>3.896362</td>\n",
       "      <td>3271</td>\n",
       "    </tr>\n",
       "    <tr>\n",
       "      <th>B007WTAJTO</th>\n",
       "      <td>4.420697</td>\n",
       "      <td>2812</td>\n",
       "    </tr>\n",
       "    <tr>\n",
       "      <th>B006GWO5WK</th>\n",
       "      <td>4.340650</td>\n",
       "      <td>2460</td>\n",
       "    </tr>\n",
       "    <tr>\n",
       "      <th>B0019EHU8G</th>\n",
       "      <td>4.744444</td>\n",
       "      <td>2430</td>\n",
       "    </tr>\n",
       "    <tr>\n",
       "      <th>B003ELYQGG</th>\n",
       "      <td>4.403104</td>\n",
       "      <td>2255</td>\n",
       "    </tr>\n",
       "    <tr>\n",
       "      <th>B007R5YDYA</th>\n",
       "      <td>4.683777</td>\n",
       "      <td>2065</td>\n",
       "    </tr>\n",
       "    <tr>\n",
       "      <th>B00622AG6S</th>\n",
       "      <td>4.383075</td>\n",
       "      <td>1997</td>\n",
       "    </tr>\n",
       "    <tr>\n",
       "      <th>B003ES5ZUU</th>\n",
       "      <td>4.720403</td>\n",
       "      <td>1985</td>\n",
       "    </tr>\n",
       "    <tr>\n",
       "      <th>B0002L5R78</th>\n",
       "      <td>4.468766</td>\n",
       "      <td>1937</td>\n",
       "    </tr>\n",
       "  </tbody>\n",
       "</table>\n",
       "</div>"
      ],
      "text/plain": [
       "             ratings  user_id\n",
       "product_id                   \n",
       "B0074BW614  4.499591     3665\n",
       "B00DR0PDNE  3.896362     3271\n",
       "B007WTAJTO  4.420697     2812\n",
       "B006GWO5WK  4.340650     2460\n",
       "B0019EHU8G  4.744444     2430\n",
       "B003ELYQGG  4.403104     2255\n",
       "B007R5YDYA  4.683777     2065\n",
       "B00622AG6S  4.383075     1997\n",
       "B003ES5ZUU  4.720403     1985\n",
       "B0002L5R78  4.468766     1937"
      ]
     },
     "execution_count": 83,
     "metadata": {
      "tags": []
     },
     "output_type": "execute_result"
    }
   ],
   "source": [
    "ratings_mean_count = df.groupby(\"product_id\").agg({\"ratings\" : \"mean\", \"user_id\" : \"count\"}).sort_values(by=[\"user_id\", \"ratings\"], ascending=False).head(10)\n",
    "ratings_mean_count"
   ]
  },
  {
   "cell_type": "markdown",
   "metadata": {
    "id": "l-_4gx7yiYuO"
   },
   "source": [
    "The above code gives us the highly rated movies sorted by the number of ratings given which can be called as a popularity based recommendation since these products are the most popular and can be recommended to a cold-start user."
   ]
  },
  {
   "cell_type": "markdown",
   "metadata": {
    "id": "6_CIk08WX8zb"
   },
   "source": [
    "# Collaborative Filtering model"
   ]
  },
  {
   "cell_type": "code",
   "execution_count": 84,
   "metadata": {
    "colab": {
     "base_uri": "https://localhost:8080/"
    },
    "id": "BTdyDdqrSzM-",
    "outputId": "4bafb1b6-bf95-40a6-d026-7971b223a80f"
   },
   "outputs": [
    {
     "name": "stdout",
     "output_type": "stream",
     "text": [
      "Estimating biases using als...\n",
      "Computing the pearson_baseline similarity matrix...\n",
      "Done computing similarity matrix.\n"
     ]
    },
    {
     "data": {
      "text/plain": [
       "<surprise.prediction_algorithms.knns.KNNWithMeans at 0x7f8fe2d73518>"
      ]
     },
     "execution_count": 84,
     "metadata": {
      "tags": []
     },
     "output_type": "execute_result"
    }
   ],
   "source": [
    "reader = Reader(line_format=\"user item rating\", rating_scale=(1.0, 5.0))\n",
    "data = Dataset.load_from_df(df_train, reader)\n",
    "trainset, testset = train_test_split(data, test_size=.30)\n",
    "\n",
    "# Use user_based true/false to switch between user-based or item-based collaborative filtering\n",
    "algo = KNNWithMeans(k=50, sim_options={'name': 'pearson_baseline', 'user_based': True})\n",
    "algo.fit(trainset)"
   ]
  },
  {
   "cell_type": "code",
   "execution_count": 85,
   "metadata": {
    "id": "0kEVVXs2lnZL"
   },
   "outputs": [],
   "source": [
    "test_pred = algo.test(testset)"
   ]
  },
  {
   "cell_type": "markdown",
   "metadata": {
    "id": "81TT-NsKi1e5"
   },
   "source": [
    "Creating a model using the surprise package to create a user-based collaborative filtering model."
   ]
  },
  {
   "cell_type": "code",
   "execution_count": 86,
   "metadata": {
    "id": "woDRWr_8XpYC"
   },
   "outputs": [],
   "source": [
    "def get_Iu(uid):\n",
    "    try:\n",
    "        return len(trainset.ur[trainset.to_inner_uid(uid)])\n",
    "    except ValueError:\n",
    "        return 0\n",
    "    \n",
    "def get_Ui(iid):\n",
    "    try: \n",
    "        return len(trainset.ir[trainset.to_inner_iid(iid)])\n",
    "    except ValueError:\n",
    "        return 0\n",
    "    \n",
    "df_2 = pd.DataFrame(test_pred, columns=['uid', 'iid', 'rui', 'est', 'details'])\n",
    "df_2['Iu'] = df_2.uid.apply(get_Iu)\n",
    "df_2['Ui'] = df_2.iid.apply(get_Ui)\n",
    "df_2['err'] = abs(df_2.est - df_2.rui)\n",
    "df_2[\"was_impossible\"] = df_2[\"details\"].apply(lambda x : x[\"was_impossible\"])\n",
    "df_2[\"actual_k\"] = df_2[\"details\"].apply(lambda x : x[\"actual_k\"] if \"actual_k\" in x else None)\n",
    "df_2.drop(columns=[\"details\"], inplace=True)\n",
    "\n",
    "best_predictions = df_2.sort_values(by='err')\n",
    "worst_predictions = df_2.sort_values(by='err')[-20:]"
   ]
  },
  {
   "cell_type": "code",
   "execution_count": 87,
   "metadata": {
    "colab": {
     "base_uri": "https://localhost:8080/",
     "height": 206
    },
    "id": "-BmPpBckj4FP",
    "outputId": "96165654-189b-43f4-87be-ee365cda6bda"
   },
   "outputs": [
    {
     "data": {
      "text/html": [
       "<div>\n",
       "<style scoped>\n",
       "    .dataframe tbody tr th:only-of-type {\n",
       "        vertical-align: middle;\n",
       "    }\n",
       "\n",
       "    .dataframe tbody tr th {\n",
       "        vertical-align: top;\n",
       "    }\n",
       "\n",
       "    .dataframe thead th {\n",
       "        text-align: right;\n",
       "    }\n",
       "</style>\n",
       "<table border=\"1\" class=\"dataframe\">\n",
       "  <thead>\n",
       "    <tr style=\"text-align: right;\">\n",
       "      <th></th>\n",
       "      <th>uid</th>\n",
       "      <th>iid</th>\n",
       "      <th>rui</th>\n",
       "      <th>est</th>\n",
       "      <th>Iu</th>\n",
       "      <th>Ui</th>\n",
       "      <th>err</th>\n",
       "      <th>was_impossible</th>\n",
       "      <th>actual_k</th>\n",
       "    </tr>\n",
       "  </thead>\n",
       "  <tbody>\n",
       "    <tr>\n",
       "      <th>4796</th>\n",
       "      <td>A10O7THJ2O20AG</td>\n",
       "      <td>B000QUUFRW</td>\n",
       "      <td>5.0</td>\n",
       "      <td>5.0</td>\n",
       "      <td>59</td>\n",
       "      <td>12</td>\n",
       "      <td>0.0</td>\n",
       "      <td>False</td>\n",
       "      <td>3.0</td>\n",
       "    </tr>\n",
       "    <tr>\n",
       "      <th>121</th>\n",
       "      <td>A12O5SEIF162P8</td>\n",
       "      <td>B009NHWVIA</td>\n",
       "      <td>5.0</td>\n",
       "      <td>5.0</td>\n",
       "      <td>40</td>\n",
       "      <td>11</td>\n",
       "      <td>0.0</td>\n",
       "      <td>False</td>\n",
       "      <td>1.0</td>\n",
       "    </tr>\n",
       "    <tr>\n",
       "      <th>6827</th>\n",
       "      <td>A19FRW264WZTGP</td>\n",
       "      <td>B00HMREOLK</td>\n",
       "      <td>5.0</td>\n",
       "      <td>5.0</td>\n",
       "      <td>39</td>\n",
       "      <td>2</td>\n",
       "      <td>0.0</td>\n",
       "      <td>False</td>\n",
       "      <td>1.0</td>\n",
       "    </tr>\n",
       "    <tr>\n",
       "      <th>5073</th>\n",
       "      <td>A1JZFGZEZVWQPY</td>\n",
       "      <td>B00F0H88AC</td>\n",
       "      <td>4.0</td>\n",
       "      <td>4.0</td>\n",
       "      <td>72</td>\n",
       "      <td>1</td>\n",
       "      <td>0.0</td>\n",
       "      <td>False</td>\n",
       "      <td>0.0</td>\n",
       "    </tr>\n",
       "    <tr>\n",
       "      <th>5199</th>\n",
       "      <td>A1KKE6VX8VPWZK</td>\n",
       "      <td>B002FU5QM0</td>\n",
       "      <td>5.0</td>\n",
       "      <td>5.0</td>\n",
       "      <td>60</td>\n",
       "      <td>2</td>\n",
       "      <td>0.0</td>\n",
       "      <td>False</td>\n",
       "      <td>1.0</td>\n",
       "    </tr>\n",
       "  </tbody>\n",
       "</table>\n",
       "</div>"
      ],
      "text/plain": [
       "                 uid         iid  rui  est  ...  Ui  err  was_impossible  actual_k\n",
       "4796  A10O7THJ2O20AG  B000QUUFRW  5.0  5.0  ...  12  0.0           False       3.0\n",
       "121   A12O5SEIF162P8  B009NHWVIA  5.0  5.0  ...  11  0.0           False       1.0\n",
       "6827  A19FRW264WZTGP  B00HMREOLK  5.0  5.0  ...   2  0.0           False       1.0\n",
       "5073  A1JZFGZEZVWQPY  B00F0H88AC  4.0  4.0  ...   1  0.0           False       0.0\n",
       "5199  A1KKE6VX8VPWZK  B002FU5QM0  5.0  5.0  ...   2  0.0           False       1.0\n",
       "\n",
       "[5 rows x 9 columns]"
      ]
     },
     "execution_count": 87,
     "metadata": {
      "tags": []
     },
     "output_type": "execute_result"
    }
   ],
   "source": [
    "best_predictions.head()"
   ]
  },
  {
   "cell_type": "code",
   "execution_count": 88,
   "metadata": {
    "colab": {
     "base_uri": "https://localhost:8080/",
     "height": 206
    },
    "id": "Y9OZWuX9j6KQ",
    "outputId": "6fe1b516-b6e9-449c-dc8d-4702f42fb436"
   },
   "outputs": [
    {
     "data": {
      "text/html": [
       "<div>\n",
       "<style scoped>\n",
       "    .dataframe tbody tr th:only-of-type {\n",
       "        vertical-align: middle;\n",
       "    }\n",
       "\n",
       "    .dataframe tbody tr th {\n",
       "        vertical-align: top;\n",
       "    }\n",
       "\n",
       "    .dataframe thead th {\n",
       "        text-align: right;\n",
       "    }\n",
       "</style>\n",
       "<table border=\"1\" class=\"dataframe\">\n",
       "  <thead>\n",
       "    <tr style=\"text-align: right;\">\n",
       "      <th></th>\n",
       "      <th>uid</th>\n",
       "      <th>iid</th>\n",
       "      <th>rui</th>\n",
       "      <th>est</th>\n",
       "      <th>Iu</th>\n",
       "      <th>Ui</th>\n",
       "      <th>err</th>\n",
       "      <th>was_impossible</th>\n",
       "      <th>actual_k</th>\n",
       "    </tr>\n",
       "  </thead>\n",
       "  <tbody>\n",
       "    <tr>\n",
       "      <th>2420</th>\n",
       "      <td>A11KZ906QD08C5</td>\n",
       "      <td>B0006OCEFY</td>\n",
       "      <td>1.0</td>\n",
       "      <td>4.391608</td>\n",
       "      <td>143</td>\n",
       "      <td>1</td>\n",
       "      <td>3.391608</td>\n",
       "      <td>False</td>\n",
       "      <td>0.0</td>\n",
       "    </tr>\n",
       "    <tr>\n",
       "      <th>6115</th>\n",
       "      <td>A1BT6TL7UCIC5Y</td>\n",
       "      <td>B003WM2N94</td>\n",
       "      <td>1.0</td>\n",
       "      <td>4.398230</td>\n",
       "      <td>113</td>\n",
       "      <td>1</td>\n",
       "      <td>3.398230</td>\n",
       "      <td>False</td>\n",
       "      <td>0.0</td>\n",
       "    </tr>\n",
       "    <tr>\n",
       "      <th>5509</th>\n",
       "      <td>A1DO9LRCO23EOM</td>\n",
       "      <td>B00AW48DS0</td>\n",
       "      <td>1.0</td>\n",
       "      <td>4.405405</td>\n",
       "      <td>37</td>\n",
       "      <td>4</td>\n",
       "      <td>3.405405</td>\n",
       "      <td>False</td>\n",
       "      <td>0.0</td>\n",
       "    </tr>\n",
       "    <tr>\n",
       "      <th>3626</th>\n",
       "      <td>A1D9V11QUHXENQ</td>\n",
       "      <td>B004LSNF04</td>\n",
       "      <td>1.0</td>\n",
       "      <td>4.473684</td>\n",
       "      <td>38</td>\n",
       "      <td>4</td>\n",
       "      <td>3.473684</td>\n",
       "      <td>False</td>\n",
       "      <td>0.0</td>\n",
       "    </tr>\n",
       "    <tr>\n",
       "      <th>532</th>\n",
       "      <td>A1D9V11QUHXENQ</td>\n",
       "      <td>B002I636XM</td>\n",
       "      <td>1.0</td>\n",
       "      <td>4.473684</td>\n",
       "      <td>38</td>\n",
       "      <td>1</td>\n",
       "      <td>3.473684</td>\n",
       "      <td>False</td>\n",
       "      <td>0.0</td>\n",
       "    </tr>\n",
       "  </tbody>\n",
       "</table>\n",
       "</div>"
      ],
      "text/plain": [
       "                 uid         iid  rui  ...       err  was_impossible  actual_k\n",
       "2420  A11KZ906QD08C5  B0006OCEFY  1.0  ...  3.391608           False       0.0\n",
       "6115  A1BT6TL7UCIC5Y  B003WM2N94  1.0  ...  3.398230           False       0.0\n",
       "5509  A1DO9LRCO23EOM  B00AW48DS0  1.0  ...  3.405405           False       0.0\n",
       "3626  A1D9V11QUHXENQ  B004LSNF04  1.0  ...  3.473684           False       0.0\n",
       "532   A1D9V11QUHXENQ  B002I636XM  1.0  ...  3.473684           False       0.0\n",
       "\n",
       "[5 rows x 9 columns]"
      ]
     },
     "execution_count": 88,
     "metadata": {
      "tags": []
     },
     "output_type": "execute_result"
    }
   ],
   "source": [
    "worst_predictions.head()"
   ]
  },
  {
   "cell_type": "markdown",
   "metadata": {
    "id": "S7jrIC1Rj-wA"
   },
   "source": [
    "The above code shows us the prediction vs actual values of ratings. The best predictions are filtered out by getting the difference between the actual and predicted ratings as **err** and sorting in ascending order. The ones at the bottom with the highest **err** are the worst predictions."
   ]
  },
  {
   "cell_type": "code",
   "execution_count": 89,
   "metadata": {
    "colab": {
     "base_uri": "https://localhost:8080/"
    },
    "id": "OpTFquIik55E",
    "outputId": "1d43e3ab-5b2f-430c-c755-23ff2d00b4bd"
   },
   "outputs": [
    {
     "name": "stdout",
     "output_type": "stream",
     "text": [
      "Estimating biases using als...\n",
      "Computing the pearson_baseline similarity matrix...\n",
      "Done computing similarity matrix.\n",
      "Estimating biases using als...\n",
      "Computing the pearson_baseline similarity matrix...\n",
      "Done computing similarity matrix.\n",
      "Estimating biases using als...\n",
      "Computing the pearson_baseline similarity matrix...\n",
      "Done computing similarity matrix.\n",
      "Estimating biases using als...\n",
      "Computing the pearson_baseline similarity matrix...\n",
      "Done computing similarity matrix.\n",
      "Estimating biases using als...\n",
      "Computing the pearson_baseline similarity matrix...\n",
      "Done computing similarity matrix.\n",
      "Evaluating RMSE, MAE, MSE of algorithm KNNWithMeans on 5 split(s).\n",
      "\n",
      "                  Fold 1  Fold 2  Fold 3  Fold 4  Fold 5  Mean    Std     \n",
      "RMSE (testset)    1.0632  1.0563  1.0891  1.0854  1.0742  1.0737  0.0125  \n",
      "MAE (testset)     0.7996  0.7996  0.8224  0.8138  0.8129  0.8097  0.0089  \n",
      "MSE (testset)     1.1305  1.1158  1.1861  1.1782  1.1540  1.1529  0.0269  \n",
      "Fit time          0.12    0.10    0.13    0.13    0.10    0.11    0.01    \n",
      "Test time         0.05    0.05    0.06    0.06    0.05    0.05    0.00    \n"
     ]
    },
    {
     "data": {
      "text/plain": [
       "{'fit_time': (0.11535525321960449,\n",
       "  0.1033179759979248,\n",
       "  0.13199687004089355,\n",
       "  0.12687468528747559,\n",
       "  0.09707450866699219),\n",
       " 'test_mae': array([0.7996329 , 0.79958678, 0.8224091 , 0.81384751, 0.81294835]),\n",
       " 'test_mse': array([1.13049201, 1.11576264, 1.18613529, 1.1781802 , 1.15395622]),\n",
       " 'test_rmse': array([1.06324598, 1.05629666, 1.08909839, 1.08544009, 1.07422354]),\n",
       " 'test_time': (0.0508573055267334,\n",
       "  0.0496828556060791,\n",
       "  0.056667327880859375,\n",
       "  0.05838727951049805,\n",
       "  0.048005104064941406)}"
      ]
     },
     "execution_count": 89,
     "metadata": {
      "tags": []
     },
     "output_type": "execute_result"
    }
   ],
   "source": [
    "cross_validate(algo, data, measures=[\"rmse\", \"mae\", \"mse\"], cv=5, verbose=True)"
   ]
  },
  {
   "cell_type": "code",
   "execution_count": 90,
   "metadata": {
    "colab": {
     "base_uri": "https://localhost:8080/"
    },
    "id": "wTgEOoZ7XNzH",
    "outputId": "555a2794-3f63-4cd8-dfc7-8def444ea26e"
   },
   "outputs": [
    {
     "name": "stdout",
     "output_type": "stream",
     "text": [
      "RMSE: 1.0504\n",
      "MAE:  0.7979\n",
      "MSE: 1.1034\n"
     ]
    },
    {
     "data": {
      "text/plain": [
       "1.1034412873423884"
      ]
     },
     "execution_count": 90,
     "metadata": {
      "tags": []
     },
     "output_type": "execute_result"
    }
   ],
   "source": [
    "accuracy.rmse(test_pred, verbose=True)\n",
    "accuracy.mae(test_pred, verbose=True)\n",
    "accuracy.mse(test_pred, verbose=True)"
   ]
  },
  {
   "cell_type": "markdown",
   "metadata": {
    "id": "x30jhnIGj7Ux"
   },
   "source": [
    "# Top - 5 recommendations for all users"
   ]
  },
  {
   "cell_type": "markdown",
   "metadata": {
    "id": "e8VMhB95nl_d"
   },
   "source": [
    "Let's create an SVD model for getting our top-n recommendations."
   ]
  },
  {
   "cell_type": "code",
   "execution_count": 91,
   "metadata": {
    "id": "neklXYbukmck"
   },
   "outputs": [],
   "source": [
    "def get_top_n(predictions, n=5):\n",
    "  top_n = defaultdict(list)\n",
    "  for uid, iid, true_r, est, _ in predictions:\n",
    "    top_n[uid].append((iid, est))\n",
    "\n",
    "  for uid, user_ratings in top_n.items():\n",
    "    user_ratings.sort(key=lambda x: x[1], reverse=True)\n",
    "    top_n[uid] = user_ratings[:n]\n",
    "\n",
    "  return top_n"
   ]
  },
  {
   "cell_type": "code",
   "execution_count": 92,
   "metadata": {
    "colab": {
     "base_uri": "https://localhost:8080/"
    },
    "id": "d_5RMHpyktnM",
    "outputId": "81101d28-2f11-4555-9ad1-7966937ade8d"
   },
   "outputs": [
    {
     "data": {
      "text/plain": [
       "<surprise.prediction_algorithms.matrix_factorization.SVD at 0x7f8ee88856a0>"
      ]
     },
     "execution_count": 92,
     "metadata": {
      "tags": []
     },
     "output_type": "execute_result"
    }
   ],
   "source": [
    "trainset = data.build_full_trainset()\n",
    "algo = SVD()\n",
    "algo.fit(trainset)"
   ]
  },
  {
   "cell_type": "code",
   "execution_count": 93,
   "metadata": {
    "id": "GxnNqEJYlSIk"
   },
   "outputs": [],
   "source": [
    "testset = trainset.build_anti_testset()\n",
    "predictions = algo.test(testset)"
   ]
  },
  {
   "cell_type": "code",
   "execution_count": 94,
   "metadata": {
    "colab": {
     "base_uri": "https://localhost:8080/"
    },
    "id": "suk71ltnmtRp",
    "outputId": "53081194-1aef-4054-82b9-5e55d0869dac"
   },
   "outputs": [
    {
     "name": "stdout",
     "output_type": "stream",
     "text": [
      "Evaluating RMSE, MAE, MSE of algorithm SVD on 5 split(s).\n",
      "\n",
      "                  Fold 1  Fold 2  Fold 3  Fold 4  Fold 5  Mean    Std     \n",
      "RMSE (testset)    1.0115  1.0108  0.9941  0.9683  1.0236  1.0017  0.0191  \n",
      "MAE (testset)     0.7489  0.7556  0.7427  0.7236  0.7518  0.7445  0.0113  \n",
      "MSE (testset)     1.0231  1.0218  0.9883  0.9376  1.0477  1.0037  0.0381  \n",
      "Fit time          1.32    1.40    1.40    1.33    2.87    1.67    0.61    \n",
      "Test time         0.03    0.04    0.04    0.04    0.04    0.04    0.00    \n"
     ]
    },
    {
     "data": {
      "text/plain": [
       "{'fit_time': (1.3248066902160645,\n",
       "  1.3956389427185059,\n",
       "  1.404151439666748,\n",
       "  1.3291015625,\n",
       "  2.8737826347351074),\n",
       " 'test_mae': array([0.74889841, 0.75555698, 0.74266865, 0.72364679, 0.75181625]),\n",
       " 'test_mse': array([1.02309235, 1.02176555, 0.98832145, 0.93759636, 1.04766249]),\n",
       " 'test_rmse': array([1.01148028, 1.01082419, 0.99414357, 0.96829559, 1.02355385]),\n",
       " 'test_time': (0.029315710067749023,\n",
       "  0.03503274917602539,\n",
       "  0.04272770881652832,\n",
       "  0.03840517997741699,\n",
       "  0.03932905197143555)}"
      ]
     },
     "execution_count": 94,
     "metadata": {
      "tags": []
     },
     "output_type": "execute_result"
    }
   ],
   "source": [
    "cross_validate(algo, data, measures=[\"rmse\", \"mae\", \"mse\"], cv=5, verbose=True)"
   ]
  },
  {
   "cell_type": "markdown",
   "metadata": {
    "id": "M4ZoHGDRjRRF"
   },
   "source": [
    "We just predictec ratings for all pairs **(u, i)** that are not in the training set by using the build_anti_testset method and predicting using the SVD model created."
   ]
  },
  {
   "cell_type": "code",
   "execution_count": 95,
   "metadata": {
    "colab": {
     "base_uri": "https://localhost:8080/"
    },
    "id": "sPFCI1N9eRZV",
    "outputId": "1bacbe18-fd8a-41b8-f349-4aca82d86f1d"
   },
   "outputs": [
    {
     "name": "stdout",
     "output_type": "stream",
     "text": [
      "A100UD67AHFODS [('B003ES5ZUU', 5.0), ('B00IVFDZBC', 5.0), ('B000N99BBC', 5.0), ('B00029U1DK', 5.0), ('B0019EHU8G', 5.0)]\n",
      "A100WO06OQR8BQ [('B001649K5K', 4.980672452207527), ('B00AHXXFHA', 4.833227043494853), ('B0075SUKIC', 4.764598713589011), ('B001O94GNS', 4.758764781649015), ('B00I4Z3JEM', 4.756001599984869)]\n",
      "A105S56ODHGJEK [('B003ES5ZUU', 4.535054239152243), ('B000B633Y8', 4.5100547039908525), ('B001MX5YWI', 4.493263327999711), ('B00BJVJV9A', 4.484066782871271), ('B004ELA0SS', 4.477581928269251)]\n",
      "A105TOJ6LTVMBG [('B002V88HFE', 4.658337994879956), ('B00005T3G0', 4.619073706379992), ('B00CB2F65O', 4.586098248656998), ('B004L6E94M', 4.541862180157566), ('B000IE8Z4Q', 4.525459163966074)]\n",
      "A10AFVU66A79Y1 [('B0019EHU8G', 4.93027003872209), ('B0052SCU8U', 4.879152017679931), ('B000N99BBC', 4.854937282364896), ('B001TH7GUU', 4.837394390152957), ('B003ES5ZUU', 4.794283375470222)]\n",
      "A10H24TDLK2VDP [('B003ES5ZUU', 5.0), ('B0019EHU8G', 5.0), ('B0052SCU8U', 5.0), ('B001TH7GUU', 5.0), ('B000JMJWV2', 5.0)]\n",
      "A10NMELR4KX0J6 [('B00CGWNKVQ', 4.898849643012995), ('B00DR6DQZA', 4.800973451188368), ('B007FGYZFI', 4.788162598836717), ('B002ZVCGXQ', 4.774680547827167), ('B001KB6Z2U', 4.756410236354309)]\n",
      "A10O7THJ2O20AG [('B009LL9VDG', 5.0), ('B000Q8UAWY', 5.0), ('B005CLPP8E', 5.0), ('B005EHHM5A', 5.0), ('B000LRMS66', 5.0)]\n",
      "A10PEXB6XAQ5XF [('B0019EHU8G', 4.756724543102691), ('B000N99BBC', 4.6628416112688384), ('B001TH7GUU', 4.630507519527259), ('B004ELA0SS', 4.628108982661225), ('B00FZ9SMVU', 4.608303508231875)]\n",
      "A10X9ME6R66JDX [('B003ES5ZUU', 5.0), ('B00AJHDZSI', 5.0), ('B000N99BBC', 5.0), ('B004S4R5CK', 5.0), ('B005J4C820', 5.0)]\n",
      "A10Y058K7B96C6 [('B001TH7GUU', 5.0), ('B003ES5ZUU', 4.978086943465943), ('B005HMKKH4', 4.93533376405736), ('B000M2TAN4', 4.917378058674233), ('B00CALM17C', 4.8682980061482946)]\n",
      "A10ZBR6O8S8OCY [('B005PQTYHE', 5.0), ('B003ES5ZUU', 5.0), ('B0002LEMWE', 5.0), ('B00F36Y9XU', 5.0), ('B00829TIEK', 5.0)]\n",
      "A10ZFE6YE0UHW8 [('B0052SCU8U', 4.453776251747278), ('B003ES5ZUU', 4.4201954932801), ('B002UHJ1II', 4.394265463961321), ('B000098XIJ', 4.390417230947735), ('B0010748J6', 4.38077136587739)]\n",
      "A110PC8C5Y7MQD [('B0000C0XS0', 4.6743744779223295), ('B0052SCU8U', 4.5655302584703925), ('B005FYNSPK', 4.535902875602791), ('B005MIDB7E', 4.535503726496432), ('B001AN16QI', 4.533216891444871)]\n",
      "A110VKXAVLAYKY [('B0019EHU8G', 4.862154833768672), ('B000HPV3RW', 4.838555258540498), ('B001TH7GUU', 4.833192357759649), ('B00D4MFPLA', 4.808752147771249), ('B001HBH1B2', 4.757692834397275)]\n",
      "A111WCUF5KA2I6 [('B000Q8UAWY', 5.0), ('B005CLPP8E', 5.0), ('B004V3KCIM', 5.0), ('B0077YTFPS', 5.0), ('B008ZCAX2K', 5.0)]\n",
      "A1143YEAZYMYHJ [('B001KB6Z2U', 5.0), ('B002JQNXZC', 5.0), ('B006W8U2MU', 4.9871144710095185), ('B00829TIEK', 4.973326350499873), ('B005IHAIEI', 4.968238049664467)]\n",
      "A11D1KHM7DVOQK [('B0052SCU8U', 4.233977847009301), ('B000EUJ1Q0', 4.083483772610382), ('B00829TIA4', 4.045489162193216), ('B000IZDN60', 4.014660168156269), ('B00066HPUQ', 3.9910791147180626)]\n",
      "A11ED8O95W2103 [('B001TH7GUU', 4.924973730946187), ('B0051A8TG6', 4.843352948331592), ('B0038SLZSW', 4.8002739754493895), ('B004ZMVQRA', 4.753447540527727), ('B002MCZJ78', 4.747855646140774)]\n",
      "A11EXFO14WEJM1 [('B000HPV3RW', 5.0), ('B0019EHU8G', 5.0), ('B001TH7GUU', 5.0), ('B007FGYZFI', 4.9920962801163595), ('B005DOUJL8', 4.9831336049896615)]\n",
      "A11EYMH9UV9XG7 [('B0019EHU8G', 5.0), ('B0052SCU8U', 5.0), ('B001TH7GUU', 5.0), ('B00EVWX5UK', 5.0), ('B00BQ4F9ZA', 4.991802636147913)]\n",
      "A11FX8HL2ANK6T [('B0052SCU8U', 4.9105496276220135), ('B003FVJYF8', 4.884202177301656), ('B00B4GGW5Q', 4.879312830151027), ('B00B588HY2', 4.863605338235006), ('B000Q8UAWY', 4.85392000816221)]\n",
      "A11I1I9QLMAM1A [('B000N99BBC', 5.0), ('B0052SCU8U', 5.0), ('B001TH7GUU', 5.0), ('B005HMKKH4', 5.0), ('B001FA09WI', 5.0)]\n",
      "A11IXJ8M1JO296 [('B003UH0Z9Q', 4.845589850311176), ('B004UQ05M8', 4.8057091971615575), ('B005HMKKH4', 4.805131289825425), ('B00B99JU5M', 4.797565776642952), ('B0019EHU8G', 4.795563087716159)]\n",
      "A11KQADBYE0UZL [('B003ES5ZUU', 5.0), ('B0002LEMWE', 5.0), ('B000IF51UQ', 5.0), ('B000N99BBC', 5.0), ('B0019EHU8G', 5.0)]\n",
      "A11KZ906QD08C5 [('B003ES5ZUU', 5.0), ('B000HPV3RW', 5.0), ('B0019EHU8G', 5.0), ('B0052SCU8U', 5.0), ('B001TH7GUU', 5.0)]\n",
      "A11LNPG39A2ZV4 [('B001TH7GUU', 4.984829225459251), ('B001KB6Z2U', 4.967113919653712), ('B004CLYEDC', 4.904623875529392), ('B007FGYZFI', 4.873410006432905), ('B0013TS0T0', 4.865576018668181)]\n",
      "A11OTLEDSW8ZXD [('B001TH7GUU', 4.925935572728074), ('B001S4OTS6', 4.841094943025103), ('B007ILK234', 4.832103947686268), ('B000JMJWV2', 4.83172795797603), ('B000N99BBC', 4.830775477278663)]\n",
      "A11P105WVK5240 [('B003ES5ZUU', 5.0), ('B000HPV3RW', 5.0), ('B000N99BBC', 5.0), ('B0019EHU8G', 5.0), ('B00B588HY2', 5.0)]\n",
      "A11R5VW7IM6ISQ [('B003ES5ZUU', 5.0), ('B0019EHU8G', 5.0), ('B0052SCU8U', 5.0), ('B002V8C3W2', 5.0), ('B00284ALF0', 4.989034317944352)]\n",
      "A11T807LX2EF00 [('B000N99BBC', 5.0), ('B0019EHU8G', 5.0), ('B0052SCU8U', 5.0), ('B001TH7GUU', 5.0), ('B002LAS1DU', 5.0)]\n",
      "A11ULAZ4B5ZXC8 [('B00113XADE', 5.0), ('B007P6Y1T8', 5.0), ('B005LS2FS6', 5.0), ('B000Q8UAWY', 5.0), ('B005CLPP8E', 5.0)]\n",
      "A11YIHB6IW352W [('B003ES5ZUU', 5.0), ('B001O5CCQK', 5.0), ('B0019EHU8G', 5.0), ('B002V88HFE', 5.0), ('B007WTAJTO', 5.0)]\n",
      "A11YOTONCPRQ9S [('B002WE0QN8', 4.317392050570953), ('B001FA1O18', 4.162033123009779), ('B001T9NUJE', 4.160686164462989), ('B0016MF7W2', 4.152066130128845), ('B00CAFPF26', 4.141817938999319)]\n",
      "A124WZCUIH2T7W [('B003ES5ZUU', 5.0), ('B0019EHU8G', 5.0), ('B002WE0QN8', 5.0), ('B001QUA6RA', 5.0), ('B008PQJWBE', 5.0)]\n",
      "A12ANFNOSMW5VD [('B0019EHU8G', 4.739183197219937), ('B005QX7KYU', 4.649257868736745), ('B000BTL0OA', 4.630767211732169), ('B009NHWVIA', 4.541757104649441), ('B000HI9O5W', 4.533601830269361)]\n",
      "A12DLJESJKM1OQ [('B00829TIA4', 5.0), ('B0052SCU8U', 5.0), ('B001TH7GUU', 5.0), ('B003ES5ZR8', 5.0), ('B000N99BBC', 4.989381989514974)]\n",
      "A12DQZKRKTNF5E [('B0002GV876', 4.828394080787997), ('B000LCZ2SW', 4.805616328653603), ('B00IVFDZBC', 4.801423556196996), ('B002LAS1DU', 4.794868336739094), ('B00006HZ0L', 4.790102676696676)]\n",
      "A12EVK82QUTSA6 [('B000N99BBC', 5.0), ('B0019EHU8G', 5.0), ('B0052SCU8U', 5.0), ('B002V8C3W2', 5.0), ('B007WTAJTO', 4.987579564527962)]\n",
      "A12LH2100CKQO [('B005KOZNBW', 5.0), ('B002VPE1X4', 5.0), ('B003ES5ZUU', 5.0), ('B0002LEMWE', 5.0), ('B005OOKNP4', 5.0)]\n",
      "A12O5SEIF162P8 [('B000LRMS66', 5.0), ('B003ES5ZUU', 5.0), ('B000HPV3RW', 5.0), ('B0002LEMWE', 5.0), ('B000Q5UMEI', 5.0)]\n",
      "A12R3YGEHW7D8G [('B003ES5ZUU', 4.985658017313983), ('B0052SCU8U', 4.89397108989097), ('B001TH7GUU', 4.872779749687284), ('B001KB6Z2U', 4.8402269568926615), ('B004Q3R9AQ', 4.82767502371209)]\n",
      "A132ETQPMHQ585 [('B000N99BBC', 5.0), ('B001TH7GUU', 5.0), ('B005HMKKH4', 5.0), ('B004CLYEFK', 4.997389534943659), ('B003ES5ZUU', 4.971160650619488)]\n",
      "A13BX9O5UDBILC [('B0052SCU8U', 4.883156766791092), ('B0019EHU8G', 4.821809031978664), ('B003ES5ZUU', 4.799529607965892), ('B00429N18S', 4.669684077722979), ('B000N99BBC', 4.660139023370423)]\n",
      "A13EQE9EY2ET93 [('B002WE6D44', 4.66574724003045), ('B004RORMF6', 4.610221104386619), ('B0052SCU8U', 4.6008033648838556), ('B008KWG4UU', 4.5783767477625394), ('B0019EHU8G', 4.573307202974169)]\n",
      "A13QOK3SKIT9QL [('B0002LEMWE', 4.522767721388004), ('B007R5YDYA', 4.457807467315427), ('B0009IUZ1M', 4.445047919399265), ('B000N99BBC', 4.43027466925589), ('B003ES5ZUU', 4.430050491206606)]\n",
      "A13WOT3RSXKRD5 [('B000Q8UAWY', 5.0), ('B00A83I8G2', 5.0), ('B005PQTYHE', 5.0), ('B00006HSYC', 5.0), ('B002VPE1X4', 5.0)]\n",
      "A13WREJ05GMRA6 [('B0052SCU8U', 4.381242402052456), ('B00BQ4F9ZA', 4.356214735958353), ('B004CLYEFK', 4.268396534886777), ('B000N99BBC', 4.254266625811682), ('B000VX6XL6', 4.241936051133417)]\n",
      "A141OPVE376YFI [('B003ES5ZUU', 5.0), ('B000HPV3RW', 5.0), ('B002MCZJ78', 5.0), ('B00IVFDZBC', 5.0), ('B0019EHU8G', 5.0)]\n",
      "A141R97FHSSUQ0 [('B007FGYZFI', 4.9227296800166185), ('B000053HC5', 4.917921272115763), ('B001DJ9GOS', 4.914076183418986), ('B000Q82PIQ', 4.903296731778978), ('B0019EHU8G', 4.89781145838524)]\n",
      "A1435P5AMCPB3X [('B003ES5ZUU', 5.0), ('B000N99BBC', 5.0), ('B004W2JKWG', 5.0), ('B00BOHNYU6', 5.0), ('B0052SCU8U', 5.0)]\n",
      "A145B8OHVNNFAJ [('B004W2JKWG', 4.880525777308681), ('B000TKHBDK', 4.86787492579816), ('B001TH7GUU', 4.854844094867242), ('B007FGYZFI', 4.8044863786475), ('B003ES5ZR8', 4.803471573012713)]\n",
      "A145LBW8ZHF0TW [('B00029U1DK', 4.891463057991548), ('B0019EHU8G', 4.834814737919876), ('B00015GYU4', 4.782191879060035), ('B000EWHH7I', 4.74779671538781), ('B003CFATT2', 4.747133889266273)]\n",
      "A149RNR5RH19YY [('B001TH7GUU', 4.6508577923102985), ('B004CLYEFK', 4.595501638177118), ('B0002LEMWE', 4.573236016339308), ('B001TZUS98', 4.5704251914939045), ('B00017LSPI', 4.561256912486101)]\n",
      "A14I1F2H7NOYDC [('B001XHBNN2', 4.989547068383979), ('B001T9NUJE', 4.960307243681833), ('B007FGYZFI', 4.925028012981862), ('B0012GK3MQ', 4.904642722841693), ('B0021Y73W6', 4.903269770218925)]\n",
      "A14JBDSWKPKTZA [('B005CLPP8E', 5.0), ('B0082E9K7U', 5.0), ('B002VPE1X4', 5.0), ('B003ES5ZUU', 5.0), ('B00452V27Y', 5.0)]\n",
      "A14MZJTZAQS6CV [('B000N99BBC', 4.835136082350232), ('B005T3GPXE', 4.827658574691091), ('B000R84UQ0', 4.8007058330844155), ('B0010Z28XG', 4.794618104565601), ('B004I0LAJI', 4.790742915694372)]\n",
      "A14NA0W8ESGDSI [('B000N99BBC', 4.875426053551955), ('B0019EHU8G', 4.823115485230701), ('B003ES5ZUU', 4.822329209219629), ('B0002LEMWE', 4.781975279766257), ('B00007EDM8', 4.716809007915196)]\n",
      "A14X244VGHWPSX [('B000HPV3RW', 4.878206125117397), ('B003ES5ZUU', 4.875102783092764), ('B000053HC5', 4.867882200571589), ('B00BOHNYU6', 4.861379481947618), ('B007FGYZFI', 4.835683813460869)]\n",
      "A14Z6D3IRJ23F7 [('B000Q8UAWY', 5.0), ('B005CLPP8E', 5.0), ('B009B0MY6S', 5.0), ('B0088PU86K', 5.0), ('B008R3875C', 5.0)]\n",
      "A1522TN5FVJL0Y [('B003ES5ZUU', 5.0), ('B0019EHU8G', 5.0), ('B002WE0QN8', 5.0), ('B001TH7GUU', 5.0), ('B001CIREXA', 5.0)]\n",
      "A15CL28ALB7MTZ [('B000N99BBC', 4.970553709130475), ('B000HPV3RW', 4.940964222725109), ('B003CJTQJC', 4.922927229670598), ('B002WE6D44', 4.861745256422473), ('B008HO9DK4', 4.85791711786927)]\n",
      "A15G70V9OBTOVO [('B0052SCU8U', 4.475438921778975), ('B0012GK3MQ', 4.468127050169224), ('B00CHHCD0E', 4.443968105483176), ('B001FA1O18', 4.434347746802309), ('B008ULPAT2', 4.430531958411981)]\n",
      "A15J71JLC29KPW [('B0019EHU8G', 4.843446659015752), ('B0052SCU8U', 4.777907299011845), ('B003ES5ZUU', 4.763795140054358), ('B001TH7GUU', 4.745696247393191), ('B002V88HFE', 4.72505009028178)]\n",
      "A15J9K7O10A3M6 [('B0019EHU8G', 4.888441167589492), ('B000N99BBC', 4.866794487452562), ('B005FYNSPK', 4.842029507289485), ('B00029U1DK', 4.835192845121098), ('B0052SCU8U', 4.832107166531114)]\n",
      "A15Q2L6DYRTFIU [('B000Q8UAWY', 5.0), ('B001A5FH9S', 5.0), ('B003ES5ZUU', 5.0), ('B000HPV3RW', 5.0), ('B00004TDRH', 5.0)]\n",
      "A15QYHQH80W30L [('B0019EHU8G', 5.0), ('B000GGMJ5W', 5.0), ('B001BSIXT0', 5.0), ('B00BOHNYU6', 4.998584663597902), ('B000AAN76Y', 4.984277577432364)]\n",
      "A15T9G38F589KM [('B007WTAJTO', 5.0), ('B000JLK5NW', 4.964927145003233), ('B0019EHU8G', 4.962094481002403), ('B004LL5MZW', 4.953657363410035), ('B001NDYTKA', 4.948345377018678)]\n",
      "A15TABNGK6L4N3 [('B000Q8UAWY', 5.0), ('B005CLPP8E', 5.0), ('B001W26TIW', 5.0), ('B0002SQ2P2', 5.0), ('B0095ABFGO', 5.0)]\n",
      "A15U64VGUV6RBF [('B005CLPP8E', 5.0), ('B001W26TIW', 5.0), ('B0002SQ2P2', 5.0), ('B0097BEFYA', 5.0), ('B008HO9DIG', 5.0)]\n",
      "A15XI2BEGGFEOW [('B000N99BBC', 4.861013164550814), ('B004S4R5CK', 4.858388819523423), ('B000053HC5', 4.850894488226766), ('B002PHM0G8', 4.841209493533549), ('B002YSH6FI', 4.831572816899178)]\n",
      "A16C19G0I2DE8S [('B000Q8UAWY', 5.0), ('B005CLPP8E', 5.0), ('B00BUACE8K', 5.0), ('B000ERAOL4', 5.0), ('B005DOK8NW', 5.0)]\n",
      "A16CVJUQOB6GIB [('B003ES5ZUU', 4.760344550570638), ('B00009EHJV', 4.631447217953834), ('B003M5KJ1K', 4.543514073266072), ('B001HBH1B2', 4.542693729150493), ('B001T9NUJE', 4.536359093159952)]\n",
      "A16HXVNPU5TCGE [('B000Q8UAWY', 5.0), ('B004LU1U2M', 5.0), ('B003ES5ZUU', 5.0), ('B000HPV3RW', 5.0), ('B00452V27Y', 5.0)]\n",
      "A16J281SJ9QXIQ [('B004YLCE2S', 5.0), ('B000Q8UAWY', 5.0), ('B000LRMS66', 5.0), ('B009B0MY6S', 5.0), ('B005OA3BSY', 5.0)]\n",
      "A16QODENBJVUI1 [('B004I5BUSO', 5.0), ('B003ES5ZUU', 5.0), ('B0019EHU8G', 5.0), ('B0052SCU8U', 5.0), ('B001I45T9O', 5.0)]\n",
      "A16RI68PS6T5CA [('B0019EHU8G', 4.648509754441727), ('B000BY52NK', 4.6416892377784285), ('B0051ZE4AQ', 4.621137272884285), ('B004Q3R9AQ', 4.604860047617332), ('B005DOUJL8', 4.602764374592127)]\n",
      "A16RL0RMRF974O [('B0002LEMWE', 5.0), ('B00829TIA4', 5.0), ('B00829TIEK', 5.0), ('B000N99BBC', 5.0), ('B005FYNSPK', 5.0)]\n",
      "A16SRDVPBXN69C [('B004VMM718', 5.0), ('B003ES5ZUU', 5.0), ('B000HPV3RW', 5.0), ('B002SAOHH2', 5.0), ('B000IF51UQ', 5.0)]\n",
      "A16WP8NTPYB0ZM [('B001O5CCQK', 4.274060356160151), ('B001TH7GUU', 4.271115767948127), ('B0019EHU8G', 4.253848465735231), ('B00005N5WX', 4.1477323083894495), ('B000N99BBC', 4.144373263276172)]\n",
      "A178M2AHNWQZB0 [('B000Q8UAWY', 5.0), ('B005CLPP8E', 5.0), ('B000LRMS66', 5.0), ('B004YLCFCM', 5.0), ('B001W26TIW', 5.0)]\n",
      "A17BUUBOU0598B [('B003ES5ZUU', 4.183252038773683), ('B0019EHU8G', 4.175922689751861), ('B0052SCU8U', 4.117942358083688), ('B000M2TAN4', 4.108585680463523), ('B007FGYZFI', 4.087138226171386)]\n",
      "A17HMM1M7T9PJ1 [('B003ES5ZUU', 4.97623492116683), ('B001TH7GUU', 4.885531282576173), ('B002V8C3W2', 4.857426897380721), ('B004CLYEFK', 4.853238895619935), ('B00BOHNYU6', 4.835372022913398)]\n",
      "A17NVM7IAPF2NS [('B000LP0R3E', 5.0), ('B000N99BBC', 5.0), ('B00JC5Y6WM', 5.0), ('B001TH7GUU', 4.992499918768746), ('B004CLYEFK', 4.989329785204628)]\n",
      "A17O9AHKHK66AI [('B000N99BBC', 4.644567527092854), ('B001TH7GUU', 4.612112001915081), ('B0051PGX2I', 4.582209896061645), ('B000PQG1AW', 4.5670449110833475), ('B00006HQR8', 4.5537746020846015)]\n",
      "A17RFKCYS69M3Y [('B0041OUA38', 3.1500727253364182), ('B002V8C3W2', 3.140727638940539), ('B00003CWDH', 3.1141841370941497), ('B00404LAPQ', 3.1049593807308415), ('B00A0LVPL2', 3.090117956640463)]\n",
      "A17UNMURMLX0ZE [('B0019EHU8G', 4.712286402560191), ('B005FYNSPK', 4.677066498973812), ('B001TH7GUU', 4.664840672479994), ('B0052SCU8U', 4.620100492756028), ('B000UHE8Y2', 4.591240118168979)]\n",
      "A17V9XL4CWTQ6G [('B0002SQ2P2', 5.0), ('B008HO9DIG', 5.0), ('B005HSG3L0', 5.0), ('B0054JJ0QW', 5.0), ('B00006HSYC', 5.0)]\n",
      "A17W0GMB0YY83M [('B003ES5ZUU', 5.0), ('B000HPV3RW', 5.0), ('B0089VKNHM', 5.0), ('B000IF51UQ', 5.0), ('B000N99BBC', 5.0)]\n",
      "A17Z0LVY96TO53 [('B003ES5ZUU', 5.0), ('B0002LEMWE', 5.0), ('B000N99BBC', 5.0), ('B0019EHU8G', 5.0), ('B0052SCU8U', 5.0)]\n",
      "A185O1MX1RP964 [('B000HPV3RW', 5.0), ('B000N99BBC', 5.0), ('B0019EHU8G', 5.0), ('B001OOZ1X2', 5.0), ('B0041OSAZ8', 5.0)]\n",
      "A186697K4XKXQL [('B003ES5ZUU', 4.593989860584885), ('B002V8C3W2', 4.512909580438659), ('B0010Y414Q', 4.5125353112058075), ('B005X9Y0YU', 4.443769656159929), ('B005F30IJK', 4.42434228957349)]\n",
      "A18A5VSD0IPN14 [('B0012GK3MQ', 5.0), ('B0052SCU8U', 5.0), ('B001TH7GUU', 5.0), ('B001CIREXA', 5.0), ('B002V8C3W2', 5.0)]\n",
      "A18EA7MNLXP9H5 [('B000N99BBC', 4.8908230265852275), ('B000HPV3RW', 4.853592498579979), ('B007FGYZFI', 4.812888644322616), ('B00119T6NQ', 4.768915794176582), ('B000JMJWV2', 4.768355047266442)]\n",
      "A18FLOC8YQY0P8 [('B003ES5ZUU', 4.929221348848973), ('B001TH7GUU', 4.91717524637776), ('B000HPV3RW', 4.913595038700681), ('B002V8C3W2', 4.899539008358662), ('B004Q3R9AQ', 4.8869633105810015)]\n",
      "A18GJ9MYYO6GCQ [('B000Q8UAWY', 5.0), ('B003ES5ZUU', 5.0), ('B000HPV3RW', 5.0), ('B00E955HKA', 5.0), ('B000N99BBC', 5.0)]\n",
      "A18HE80910BTZI [('B006H06TVG', 4.559040228846903), ('B001TOD7ME', 4.535272386612278), ('B001TH7GUU', 4.535205707787975), ('B0019EHU8G', 4.4959135673426465), ('B00429N18S', 4.484370933745252)]\n",
      "A18L9A64XNGVGU [('B003ES5ZUU', 4.404516230721943), ('B002V8C3W2', 4.294237570362503), ('B001T9NUJE', 4.243698541326697), ('B000IM3MFA', 4.187497811374745), ('B008EQZ25K', 4.166495115990199)]\n",
      "A18NDN2CIG2TKR [('B005OA3BSY', 5.0), ('B000233WJ6', 5.0), ('B0071369M2', 5.0), ('B0002SQ2P2', 5.0), ('B0045EPIG8', 5.0)]\n",
      "A18OTCHQ6MXD6X [('B0012GK3MQ', 5.0), ('B0052SCU8U', 5.0), ('B001KB6Z2U', 4.965734267914197), ('B00829TIA4', 4.96213889934619), ('B000N99BBC', 4.891025118763399)]\n",
      "A18S2VGUH9SCV5 [('B000BTL0OA', 4.8481347262986425), ('B001M4HXB2', 4.7342711044841215), ('B002V8C3W2', 4.7141791177723285), ('B00284ALF0', 4.690086121412992), ('B000BY52O4', 4.689318993782605)]\n",
      "A18U49406IPPIJ [('B009LL9VDG', 5.0), ('B002K9GCU6', 5.0), ('B005LS2FS6', 5.0), ('B000Q8UAWY', 5.0), ('B005EHHM5A', 5.0)]\n",
      "A18YMFFJW974QS [('B001TH7GUU', 5.0), ('B0052SCU8U', 4.97604704829018), ('B007FGYZFI', 4.959909136928673), ('B003ES5ZUU', 4.931592998249341), ('B00G335A58', 4.930441953236897)]\n",
      "A1901NTE8LFJF6 [('B0019EHU8G', 4.6940560717989905), ('B001TH7GUU', 4.623246633409073), ('B004YE7Q7I', 4.574730551436704), ('B0052SCU8U', 4.57145678557881), ('B003ES5ZUU', 4.539660734036196)]\n",
      "A194Y47BF3CUTJ [('B00113XADE', 5.0), ('B000Q8UAWY', 5.0), ('B005CLPP8E', 5.0), ('B00ALNPM2C', 5.0), ('B000LRMS66', 5.0)]\n",
      "A195EZSQDW3E21 [('B004I5BUSO', 4.998612808427192), ('B000ELC148', 4.853295337429884), ('B00001ZUHX', 4.85259111360102), ('B00119T6NQ', 4.842828139588694), ('B000KFRSG4', 4.822506530597202)]\n",
      "A196JN53PG0C7R [('B004YLCFCM', 5.0), ('B0071369M2', 5.0), ('B0045EPIG8', 5.0), ('B0082E9K7U', 5.0), ('B0054JJ0QW', 5.0)]\n",
      "A197T2N6RU7K56 [('B003ES5ZUU', 5.0), ('B000HPV3RW', 5.0), ('B0002LEMWE', 5.0), ('B00IVFDZBC', 5.0), ('B000N99BBC', 5.0)]\n",
      "A1987V5OCO6QHS [('B0052SCU8U', 4.0591734187041455), ('B001O5CCQK', 3.776044322613067), ('B000HPV3RW', 3.757982929253435), ('B007WTAJTO', 3.7297904782889133), ('B001TH7GUU', 3.7246085392110224)]\n",
      "A198CCH4NNLI2E [('B00006I5BN', 3.548532879404326), ('B0059PJFL6', 3.544359649803063), ('B003B20F54', 3.5418998018555246), ('B0002LEMWE', 3.5395073435831437), ('B007FGYZFI', 3.532362565218437)]\n",
      "A19EKT8H85AKO5 [('B0002LEMWE', 5.0), ('B001OOZ1X2', 5.0), ('B0019EHU8G', 4.920319939391902), ('B005FYNSPK', 4.915108977724194), ('B00746W3HG', 4.891368739156098)]\n",
      "A19FRW264WZTGP [('B003ES5ZUU', 5.0), ('B0052SCU8U', 5.0), ('B000NJH592', 5.0), ('B000M2TAN4', 4.981847653041286), ('B0019EHU8G', 4.98091488741226)]\n",
      "A19HKRB4LU5YR [('B0019EHU8G', 4.7744928280672525), ('B004CLYEFK', 4.634389930433654), ('B004ELA0SS', 4.563643653581055), ('B001XHBNN2', 4.549638595352369), ('B003ES5ZUU', 4.515827214111541)]\n",
      "A19HT7YC1UW3D6 [('B003ES5ZUU', 5.0), ('B000N99BBC', 5.0), ('B005J4C820', 5.0), ('B0019EHU8G', 5.0), ('B005DOUJL8', 5.0)]\n",
      "A19N3S7CBSU6O7 [('B0054JJ0QW', 5.0), ('B003ES5ZUU', 5.0), ('B000HPV3RW', 5.0), ('B005A0B7CA', 5.0), ('B000IF51UQ', 5.0)]\n",
      "A19NP8YYADOOSF [('B0064X5Q5Q', 4.725841308709714), ('B0002IQ18A', 4.719652549282068), ('B001T9NUJE', 4.6739365004630224), ('B004U1Y3IU', 4.668154672511821), ('B0078LNTL6', 4.650512145192458)]\n",
      "A19RGDJPNZ7NZ [('B0019EHU8G', 5.0), ('B003ES5ZUU', 4.899039004112619), ('B001ENW61I', 4.868731072333965), ('B000TKHBDK', 4.8677387914975805), ('B0052SCU8U', 4.863049387785057)]\n",
      "A19RW25Q6206I3 [('B002V8C3W2', 4.858872689937522), ('B001F51G16', 4.838252041965227), ('B001H4B0B6', 4.823615366269183), ('B003ES5ZUU', 4.809784026835755), ('B000HZBR64', 4.768103826362683)]\n",
      "A19UTUEBWKIZFT [('B001A5FH9S', 5.0), ('B00483WRZ6', 5.0), ('B003ES5ZUU', 5.0), ('B000HPV3RW', 5.0), ('B003CYKYU2', 5.0)]\n",
      "A19W47CXJJP1MI [('B007QWF9GK', 5.0), ('B000LRMS66', 5.0), ('B003ES5ZUU', 5.0), ('B0002LEMWE', 5.0), ('B000N99BBC', 5.0)]\n",
      "A19X4BF861LQST [('B001TH7GUU', 4.5584166672231), ('B001RNOHDU', 4.451787869522381), ('B003ES5ZUU', 4.445237793464831), ('B003CJTQJC', 4.407237657736519), ('B0052SCU8U', 4.384258456161353)]\n",
      "A19XMHRB3G4DIR [('B003ES5ZUU', 5.0), ('B0019EHU8G', 5.0), ('B00BOHNYU6', 5.0), ('B001TH7GUU', 5.0), ('B0057AVXTA', 5.0)]\n",
      "A19XPAWSWDRI3B [('B003ES5ZUU', 5.0), ('B000N99BBC', 5.0), ('B0019EHU8G', 5.0), ('B0052SCU8U', 5.0), ('B001TH7GUU', 5.0)]\n",
      "A1A306IAZ3TM1 [('B003ES5ZUU', 4.019528865247856), ('B001BM5XB2', 3.8767757325111125), ('B001196H3S', 3.8468059447229743), ('B00AVQ7HJ0', 3.8067438296482448), ('B007XGL5U8', 3.8048788566410794)]\n",
      "A1A535TCGNMVPI [('B004I5BUSO', 5.0), ('B003ES5ZUU', 5.0), ('B000HPV3RW', 5.0), ('B0002LEMWE', 5.0), ('B00AJHDZSI', 5.0)]\n",
      "A1A5KUIIIHFF4U [('B000IM3MFA', 5.0), ('B004YWIJSA', 4.926446700887706), ('B00AQUO5RI', 4.848294815376944), ('B0052SCU8U', 4.827898798403643), ('B000BPRGK6', 4.816370974099747)]\n",
      "A1AH8033GWKBY7 [('B003ES5ZUU', 5.0), ('B001TH7GUU', 5.0), ('B003ZUIHY8', 5.0), ('B001F0PN3I', 5.0), ('B000N99BBC', 4.937733196879433)]\n",
      "A1AKW788238PWQ [('B000HPV3RW', 5.0), ('B001TH7GUU', 4.956485523166433), ('B004WK3U9W', 4.9036502940135245), ('B00181BHRK', 4.903436862620146), ('B00829TIA4', 4.90213187287107)]\n",
      "A1AQ8JT2A3UWMY [('B0052SCU8U', 4.624256231725054), ('B001TH7GUU', 4.564355913607808), ('B00029U1DK', 4.563714505219142), ('B00FG709H6', 4.495179863203048), ('B003ES5ZUU', 4.492631393449507)]\n",
      "A1ASWDAEDTTY5I [('B000M2TAN4', 4.744671160139875), ('B00CHR46JA', 4.73485712605149), ('B000V1LX72', 4.731574075821371), ('B001IKEX8G', 4.723721191562762), ('B0012X43P2', 4.713598669715543)]\n",
      "A1ATVMMJZP3Q4X [('B004YLCE2S', 5.0), ('B000LRMS66', 5.0), ('B000233WJ6', 5.0), ('B0097BEFYA', 5.0), ('B000H0K8VY', 5.0)]\n",
      "A1AWL9JASMG904 [('B0052SCU8U', 4.327710349960662), ('B000BTL0OA', 4.305598617675592), ('B0049MOK92', 4.301265266302565), ('B001T9NUJE', 4.2795608834354715), ('9983891212', 4.279543934274267)]\n",
      "A1AZQCVCDBQP6 [('B0002LEMWE', 5.0), ('B000N99BBC', 5.0), ('B0019EHU8G', 5.0), ('B004XC6GJ0', 5.0), ('B001TH7GUU', 5.0)]\n",
      "A1B0NL8UWAELI7 [('B003ES5ZUU', 5.0), ('B000N99BBC', 5.0), ('B009NHWVIA', 5.0), ('B0019EHU8G', 5.0), ('B002V88HFE', 5.0)]\n",
      "A1B4MIXYVIKMU2 [('B0052SCU8U', 5.0), ('B001TH7GUU', 4.956564439130175), ('B00B981GKA', 4.854139763948004), ('B0019EHU8G', 4.835003102900424), ('B0041OSAZ8', 4.7944107877219375)]\n",
      "A1B6O7SAIYG2N0 [('B001TH7GUU', 4.9388163878801405), ('B0019EHU8G', 4.7999440935390245), ('B002V8C3W2', 4.782244767671952), ('B000N99BBC', 4.767444970572705), ('B001T9NUJE', 4.7665029862609405)]\n",
      "A1B8EJQU73YGL9 [('B003ES5ZUU', 5.0), ('B0019EHU8G', 5.0), ('B00829THH8', 5.0), ('B002V8C3W2', 4.943087847235288), ('B0012MMW7E', 4.936299716216763)]\n",
      "A1BBYSMT9YCODI [('B0019EHU8G', 4.592425115250116), ('B005HMKKH4', 4.524742368630658), ('B001TH7GUU', 4.523232002269385), ('B0052SCU8U', 4.498786970973746), ('B000N99BBC', 4.480609175250962)]\n",
      "A1BC62X6HZJGZR [('B0052SCU8U', 4.826937846977889), ('B000BTL0OA', 4.724239036914763), ('B000HPV3RW', 4.701728500035187), ('B00006I53X', 4.688335836089489), ('B00JC5Y6WM', 4.682970596165804)]\n",
      "A1BJOHHLG0D965 [('B000AYJDD6', 4.858877661989171), ('B003FVJYF8', 4.840073669402024), ('B0089E5R0W', 4.822298247606533), ('B000N99BBC', 4.816394442234082), ('B007FGYZFI', 4.797176286466582)]\n",
      "A1BT6TL7UCIC5Y [('B0052SCU8U', 4.946558427841651), ('B005K7192G', 4.946394497043115), ('B000PO3CTM', 4.94561380783675), ('B002W3IXZW', 4.893916438195689), ('B00BXF5GPK', 4.889070124584359)]\n",
      "A1BVE2ZIBKJ7YI [('B0052SCU8U', 4.529553782984107), ('B004CLYEDC', 4.475701738355486), ('B003B48UQ8', 4.386423928297932), ('B000VIHFZ4', 4.369641179993693), ('B000A7B9YE', 4.35271527594667)]\n",
      "A1BXVZSQOJE6UE [('B0052SCU8U', 4.818099106306058), ('B003ES5ZUU', 4.7562992173217555), ('B0012GK3MQ', 4.66386410088435), ('B000HPV3RW', 4.608220416003162), ('B00EL8NIJC', 4.603222991347062)]\n",
      "A1BZIM4WGZ6DZP [('B00113XADE', 5.0), ('B000Q8UAWY', 5.0), ('B005CLPP8E', 5.0), ('B00ALNPM2C', 5.0), ('B005OA3BSY', 5.0)]\n",
      "A1C47ROOK7BSVL [('B00009XVCZ', 3.905647460048587), ('B001U3Y8O0', 3.873315726566739), ('B00A0JUNWQ', 3.8720096502698436), ('B00D5T3QK4', 3.8683309184609356), ('B002RL8IAY', 3.8516264840419394)]\n",
      "A1C5TCCR2IGKBU [('B001FA09WI', 5.0), ('B002V8C3W2', 4.983118339436022), ('B000HPV3RW', 4.956269858730527), ('B003ES5ZUU', 4.940092989470218), ('B001TH7GUU', 4.934611780087195)]\n",
      "A1C5WS021EL3WO [('B000LRMS66', 5.0), ('B004I5BUSO', 5.0), ('B00AJHDZSI', 5.0), ('B000LP0R3E', 5.0), ('B000N99BBC', 5.0)]\n",
      "A1C82BC5GNABOA [('B003ES5ZUU', 5.0), ('B001KB6Z2U', 5.0), ('B0019EHU8G', 5.0), ('B00BOHNYU6', 5.0), ('B0012GK3MQ', 5.0)]\n",
      "A1CM4HI4S5P0WO [('B0052SCU8U', 4.532370721193465), ('B00D4MFPLA', 4.492805663299964), ('B000WHSFYY', 4.486178795390579), ('B002WE0QN8', 4.457359508804093), ('B003ES5ZUU', 4.452241151464323)]\n",
      "A1CMD08Z49PGKQ [('B004YLCE2S', 5.0), ('B000Q8UAWY', 5.0), ('B005CLPP8E', 5.0), ('B0002SQ2P2', 5.0), ('B0097BEFYA', 5.0)]\n",
      "A1CMWB7AWQUQH4 [('B002LTWDSK', 4.560719773547125), ('B002TJYVBO', 4.466427497774187), ('B005MLAZ8Y', 4.462202964958656), ('B004RDWVUS', 4.460896852647919), ('B009UEAZ84', 4.45715620608483)]\n",
      "A1CN1P7147QDJC [('B003ES5ZUU', 5.0), ('B0002LEMWE', 5.0), ('B000N7HT86', 5.0), ('B001O5CCQK', 5.0), ('B000N99BBC', 5.0)]\n",
      "A1CPRP3VFJRS1R [('B001TH7GUU', 4.634388057255943), ('B000KKKDAC', 4.621742247753275), ('B002ONCBSK', 4.62025899604224), ('B007PJF8RY', 4.5484538321946975), ('B002WE0QN8', 4.5480663832706485)]\n",
      "A1CSRR7FCKBL9M [('B003ES5ZUU', 4.9825659339077495), ('B00284ALF0', 4.83761566134544), ('B0000BZL1P', 4.830764888215708), ('B000N99BBC', 4.829133913198504), ('B00004TVEV', 4.807572257262625)]\n",
      "A1CST2WUA32GP0 [('B000N99BBC', 4.6532659699159185), ('B0019EHU8G', 4.621839809546448), ('B0052SCU8U', 4.5261015930444355), ('B006U3O566', 4.422186744369968), ('B005FYNSPK', 4.4188740649015665)]\n",
      "A1CYTBE7LLUQ8F [('B000LRMS66', 5.0), ('B005OA3BSY', 5.0), ('B005HSG3L0', 5.0), ('B003ES5ZUU', 5.0), ('B0002LEMWE', 5.0)]\n",
      "A1D27BCSYV7VWH [('B001TH7GUU', 4.784676795236325), ('B00AJHDZSI', 4.523207603572035), ('B003ES5ZUU', 4.5109995622076555), ('B000N99BBC', 4.505190158432065), ('B004CR7TE2', 4.503810884875275)]\n",
      "A1D9V11QUHXENQ [('B0019EHU8G', 5.0), ('B005WKKIGO', 5.0), ('B001KB6Z2U', 4.989613665952454), ('B001E1Y5O6', 4.934527190088868), ('B0052SCU8U', 4.920262027029525)]\n",
      "A1DB5QPH7WO488 [('B001TH7GUU', 4.45679458197503), ('B0019EHU8G', 4.446232868115695), ('B0012GK3MQ', 4.399258666031948), ('B003ES5ZUU', 4.389007695645888), ('B008X9Z7N0', 4.356271675406681)]\n",
      "A1DO9LRCO23EOM [('B000N99BBC', 5.0), ('B002V88HFE', 5.0), ('B00BOHNYU6', 5.0), ('B004CLYEFK', 5.0), ('B001TH7GUU', 5.0)]\n",
      "A1DQHS7MOVYYYA [('B0052SCU8U', 4.738726149306531), ('B005DIQ2OC', 4.736583304876301), ('B001KB6Z2U', 4.73420547758564), ('B007FGYZFI', 4.678315554091805), ('B000FP0K78', 4.666365483318698)]\n",
      "A1DSRM2P0WGQNS [('B0052SCU8U', 4.649364703272019), ('B003ES5ZUU', 4.620595941017585), ('B001TH7GUU', 4.576139614614186), ('B0019EHU8G', 4.541151791372071), ('B000JMJWV2', 4.428105669363945)]\n",
      "A1DTCJV6KOMJOA [('B0009VKJH4', 4.780257118137133), ('B000OU7MVQ', 4.7250604798129565), ('B0057CL3D4', 4.703620883577583), ('B000N99BBC', 4.696331266948679), ('B002SXMRRQ', 4.685185833071691)]\n",
      "A1E1LEVQ9VQNK [('B000Q8UAWY', 5.0), ('B000LRMS66', 5.0), ('B00A39PPCG', 5.0), ('B00176NOCM', 5.0), ('B009W8YQ6K', 5.0)]\n",
      "A1E3OB6QMBKRYZ [('B00829TIEK', 4.466433508879275), ('B000BQ7GW8', 4.3765572574550955), ('B00284ALF0', 4.371735645778306), ('B0040Q93PI', 4.350110363062642), ('B001TOD7ME', 4.340678623979573)]\n",
      "A1E55W6ES0FY17 [('B002FU5QMK', 4.555732359464992), ('B0099SMFVQ', 4.4851213390065325), ('B001FWYGJS', 4.45754946990934), ('B00746W3HG', 4.451385485141037), ('B0017HF3XO', 4.398817048449912)]\n",
      "A1EH2S92FHWZRP [('B005A0B7CA', 4.734876612337917), ('B00BOHNYU6', 4.677109219933782), ('B00176GWT4', 4.6519908354820005), ('B00HZ9GPTE', 4.638603642119509), ('B001RB2L44', 4.637560498751072)]\n",
      "A1EKSETIBS9ETQ [('B0019EHU8G', 4.928804559426815), ('B00EO96W2I', 4.844120320057151), ('B0052SCU8U', 4.808177507508564), ('B00119T6NQ', 4.721951793324198), ('B003ES5ZUU', 4.706212772450085)]\n",
      "A1EOTB1WHLSW6G [('B00005T3G0', 5.0), ('B000P1O73A', 4.984738340222351), ('B001TH7GUU', 4.982119596041221), ('B000N99BBC', 4.9808306529011315), ('B00E3W15P0', 4.9430106250399275)]\n",
      "A1EQ5D5JRSW23K [('B0002SQ2P2', 5.0), ('B003ES5ZUU', 5.0), ('B000HPV3RW', 5.0), ('B0002LEMWE', 5.0), ('B00AJHDZSI', 5.0)]\n",
      "A1EVV74UQYVKRY [('B003ES5ZUU', 5.0), ('B000N99BBC', 5.0), ('B001KB6Z2U', 5.0), ('B0019EHU8G', 5.0), ('B0052SCU8U', 5.0)]\n",
      "A1EXGL6L0QQ0M5 [('B001CIREXA', 5.0), ('B0052SCU8U', 4.9755458646801705), ('B001TH7GUU', 4.95662533551762), ('B0019EHU8G', 4.955687674760801), ('B003ES5ZUU', 4.945901501844726)]\n",
      "A1F0KPA232MTYC [('B001S4OTS6', 4.92676117732031), ('B00CSIOLXY', 4.803772063906581), ('B008LCYIEI', 4.803219150419048), ('B003ES5ZUU', 4.79565063592673), ('B00029U1DK', 4.758063244393004)]\n",
      "A1F1A0QQP2XVH5 [('B000OX1WD2', 4.841397280935789), ('B009NHWVIA', 4.820294747342993), ('B000JSFZPS', 4.783652867608948), ('B0019EHU8G', 4.783362794138187), ('B0052SCU8U', 4.766448350864466)]\n",
      "A1F5O1USOUOOXI [('B0019EHU8G', 5.0), ('B001TH7GUU', 5.0), ('B005KAK2FI', 4.994284972217614), ('B0052SCU8U', 4.981407283465376), ('B005QX7KYU', 4.979369745250737)]\n",
      "A1F7YU6O5RU432 [('B004I5BUSO', 5.0), ('B003ES5ZUU', 5.0), ('B000HPV3RW', 5.0), ('B0002LEMWE', 5.0), ('B00AJHDZSI', 5.0)]\n",
      "A1F9Z42CFF9IAY [('B003XU6H8I', 4.48602750723381), ('B0073GLC6U', 4.469391511427464), ('B000N99BBC', 4.4495261511017885), ('B005O60OM4', 4.442483147439479), ('B00DP3KOOG', 4.432951600490722)]\n",
      "A1FDSZISWIXH1A [('B003ES5ZUU', 5.0), ('B00829TIEK', 5.0), ('B000N99BBC', 5.0), ('B00029U1DK', 5.0), ('B0019EHU8G', 5.0)]\n",
      "A1FDV3WPOHREY9 [('B000UHE8Y2', 5.0), ('B0019EHU8G', 5.0), ('B002WE0QN8', 5.0), ('B00015GYU4', 5.0), ('B000TKHBDK', 5.0)]\n",
      "A1FF2PLA84KNAE [('B000Q8UAWY', 5.0), ('B0054JJ0QW', 5.0), ('B003ES5ZUU', 5.0), ('B000HPV3RW', 5.0), ('B00AJHDZSI', 5.0)]\n",
      "A1FLJCHN5CG5M5 [('B001HBIYJK', 4.991522150963657), ('B0033AF5WW', 4.94961222914337), ('B0019EHU8G', 4.943167434895037), ('B007FGYZFI', 4.913671349781979), ('B004NY9UUK', 4.881645542819071)]\n",
      "A1FMU4CJLIDHR9 [('B000N99BBC', 4.994972804680265), ('B0019EHU8G', 4.981807156249433), ('B004CLYEFK', 4.943519676535692), ('B009NHWVIA', 4.943396761955906), ('B002MMY4WY', 4.925961842010355)]\n",
      "A1FOSIV4TWZFR7 [('B0019EHU8G', 4.992673272589685), ('B003ES5ZUU', 4.953041384105277), ('B000M2TAN4', 4.9413829489015075), ('B001TH7GUU', 4.916668182329318), ('B002V8C3W2', 4.8577763708874)]\n",
      "A1FR68QH6Z4YZM [('B003ES5ZUU', 5.0), ('B001O5CCQK', 5.0), ('B000N99BBC', 5.0), ('B00029U1DK', 5.0), ('B0019EHU8G', 5.0)]\n",
      "A1FXT4VNDA25LY [('B002VPE1X4', 5.0), ('B003ES5ZUU', 5.0), ('B0002LEMWE', 5.0), ('B000N99BBC', 5.0), ('B0019EHU8G', 5.0)]\n",
      "A1G3DKT38DNZJP [('B005HMKKH4', 5.0), ('B0019EHU8G', 4.97264750674474), ('B0001VNN6Q', 4.948129237860393), ('B004CLYEFK', 4.948061654124083), ('B00JC5Y6WM', 4.901465216287654)]\n",
      "A1G5MI2KREPEIB [('B003ES5ZUU', 4.976110249319388), ('B001TH7GUU', 4.874938723258641), ('B0019EHU8G', 4.860823260335548), ('B0052SCU8U', 4.82679321214291), ('B00BP5KOPA', 4.781462374268015)]\n",
      "A1G650TTTHEAL5 [('B000Q8UAWY', 5.0), ('B000LRMS66', 5.0), ('B004V3KCIM', 5.0), ('B0002SQ2P2', 5.0), ('B0053T4PHC', 5.0)]\n",
      "A1GBT4UN2RW7XY [('B0019EHU8G', 5.0), ('B001QATRCA', 4.807248334591438), ('B00029U1DK', 4.781624489703844), ('B003CJTQJC', 4.763297968486795), ('B00FG7MVJU', 4.741448202172867)]\n",
      "A1GBU479WXR7UG [('B0012GK3MQ', 4.808336798544708), ('B000N99BBC', 4.749596472568212), ('B003ES5ZUU', 4.70887535824027), ('B00009EHJV', 4.65672800683312), ('B003FVJYF8', 4.646041017529808)]\n",
      "A1GNYV0RA0EQSS [('B0019EHU8G', 4.793823427451266), ('B009NHWVIA', 4.770685877235205), ('B000N99BBC', 4.750623830563687), ('B004YLCFCM', 4.745635454740211), ('B002LAS1DU', 4.743201794158066)]\n",
      "A1GQRGB8FGSLIZ [('B005DOUJL8', 4.5211653855873415), ('B0019EHU8G', 4.516426552225711), ('B00000JDGO', 4.512445300782151), ('B002V8C3W2', 4.483830282370407), ('B00E3W15P0', 4.47539093992069)]\n",
      "A1GW7V6S6XSXX3 [('B0019EHU8G', 4.68791212417178), ('B002V88HFE', 4.64124622490317), ('B00E0EY7Z6', 4.625172142516831), ('B003ES5ZUU', 4.602729841434078), ('B000N99BBC', 4.585915257107467)]\n",
      "A1GWG5CWLKJ7ET [('B002TMRZOQ', 4.900366109384911), ('B0019EHU8G', 4.890321916483955), ('B003ES5ZUU', 4.85718624181123), ('B0054CFKQI', 4.836664115354267), ('B00DJ6AFX4', 4.825630107485995)]\n",
      "A1GYEGLX3P2Y7P [('B0019EHU8G', 4.894168021215924), ('B000N99BBC', 4.84323594739771), ('B0052SCU8U', 4.807226478432366), ('B001TH7GUU', 4.773718974159388), ('B000M2TAN4', 4.772262047201452)]\n",
      "A1H0D7635GEEJ1 [('B001TH7GUU', 4.9850835238303235), ('B0052SCU8U', 4.918701066803166), ('B000N99BBC', 4.8662298216424915), ('B002QEBMAK', 4.807192436320032), ('B0019EHU8G', 4.799926886953197)]\n",
      "A1H4IVXNXWWBLV [('B00AJHDZSI', 4.786482152399421), ('B0019EHU8G', 4.769160511540665), ('B000N99BBC', 4.754357230066677), ('B003ES5ZUU', 4.743682842897334), ('B0012GK3MQ', 4.743496244717686)]\n",
      "A1H55L0BLPCWYF [('B0002SQ2P2', 5.0), ('B0097BEFYA', 5.0), ('B009W8YQ6K', 5.0), ('B004TLIVB6', 5.0), ('B0082E9K7U', 5.0)]\n",
      "A1H6SBO7R007I8 [('B0019EHU8G', 4.715203995287057), ('B00006I5WJ', 4.568889494304615), ('B000N99BBC', 4.568102633312425), ('B000JV9LUK', 4.4983860380389915), ('B0057X4TWA', 4.498256659802949)]\n",
      "A1H7Y5XKPGT0OS [('B000N99BBC', 4.754473873200796), ('B0019EHU8G', 4.717877395472423), ('B003ES5ZUU', 4.66476723117263), ('B00385XUFQ', 4.6588881865986815), ('B003VNKKUS', 4.658757721107198)]\n",
      "A1H98YV5K5BUX0 [('B000VX6XL6', 5.0), ('B001O5CCQK', 5.0), ('B00JC5Y6WM', 5.0), ('B004C9XIJA', 5.0), ('B002V88HFE', 5.0)]\n",
      "A1HBEQWSMVQEWJ [('B002V8C3W2', 4.69866074433728), ('B004RDWVUS', 4.598439677746729), ('B000N99BBC', 4.593411178512597), ('B001TH7GUU', 4.583657085252084), ('B000BYLGV2', 4.546004020766367)]\n",
      "A1HBI9BBQIG1NH [('B001TH7GUU', 4.679038185479871), ('B0019EHU8G', 4.675383964390479), ('B000N99BBC', 4.655176010101816), ('B002JQNXZC', 4.6340795813532125), ('B003ES5ZUU', 4.632271272272527)]\n",
      "A1HFT68GJ42LTM [('B0052SCU8U', 4.872032822345797), ('B000M2TAN4', 4.841856711450935), ('B003ES5ZUU', 4.8118426941421255), ('B0019EHU8G', 4.803701109792215), ('B002QEBMAK', 4.776707446731946)]\n",
      "A1HSM98KUGTHNY [('B0019EHU8G', 4.937163195218356), ('B001TH7GUU', 4.713484275137549), ('B003ES5ZUU', 4.695586240736649), ('B0052SCU8U', 4.692207058743898), ('B000N99BBC', 4.619871129436281)]\n",
      "A1HYH206E18XVC [('B003ES5ZUU', 4.852259108182532), ('B0019EHU8G', 4.750390691005475), ('B000M2TAN4', 4.737242819127049), ('B001TH7GUU', 4.7166276330532), ('B005FYNSPK', 4.712971733346084)]\n",
      "A1I96OYAUJ3HQE [('B0082E9K7U', 5.0), ('B003ES5ZUU', 5.0), ('B000HPV3RW', 5.0), ('B0002LEMWE', 5.0), ('B00AJHDZSI', 5.0)]\n",
      "A1IBKN1GXYJ3K4 [('B0052SCU8U', 5.0), ('B001TH7GUU', 5.0), ('B000VOU91U', 4.96361400611899), ('B001T9NUJE', 4.955897585780917), ('B000JMJWV2', 4.948023374309845)]\n",
      "A1IDAKX7OM3QIE [('B0083XTQ42', 4.277645226975821), ('B000087LII', 4.269919027474614), ('B003ES5ZUU', 4.241655278307502), ('B003WUBIZQ', 4.241393898510141), ('B001T9NUJE', 4.199538983807385)]\n",
      "A1IG1I6MR3HAWA [('B0054JJ0QW', 5.0), ('B003ES5ZUU', 5.0), ('B000HPV3RW', 5.0), ('B0002LEMWE', 5.0), ('B001O5CCQK', 5.0)]\n",
      "A1ILWPH1GHUXE2 [('B001TH7GUU', 4.631512475010219), ('B004JJ4IL0', 4.6267742141613395), ('B0019EHU8G', 4.592103518110146), ('B00005B9A0', 4.558175025764314), ('B001XHBNN2', 4.487784512248911)]\n",
      "A1ITRGMT80D5TK [('B007WTAJTO', 4.8412119606881605), ('B000HPV3RW', 4.675588864270844), ('B0019EHU8G', 4.673197527624709), ('B000N99BBC', 4.641052600475133), ('B005JLQL26', 4.6247676861388625)]\n",
      "A1IU4UAV9QIJAI [('B0019EHU8G', 4.7906379003782265), ('B0052SCU8U', 4.767761484436422), ('B0012GK3MQ', 4.721265593731333), ('B008HO9DIG', 4.717946272236471), ('B000N99BBC', 4.709174155506943)]\n",
      "A1IU7S4HCK1XK0 [('B005IHAIEI', 5.0), ('B0012GK3MQ', 5.0), ('B0019EHU8G', 4.977278453814784), ('B0052SCU8U', 4.969832904992929), ('B001KB6Z2U', 4.95834099185166)]\n",
      "A1J5HIF41ENSMZ [('B003ES5ZUU', 4.635216294811808), ('B0052SCU8U', 4.61388259958688), ('B000BTL0OA', 4.586233217309836), ('B007FGYZFI', 4.511499710492406), ('B000N99BBC', 4.482966044445861)]\n",
      "A1J75JJ0Q2OEJN [('B00006HCJI', 4.685262001324688), ('B0052SCU8U', 4.676792638099025), ('B004XC6GJ0', 4.596832740021552), ('B00EVWXAEQ', 4.585950096038011), ('B00II6VYI0', 4.570153219114552)]\n",
      "A1J87SYB3JPQWH [('B004YLCE2S', 5.0), ('B000Q8UAWY', 5.0), ('B0000AR0I4', 5.0), ('B002Y6CJJ8', 5.0), ('B004I5BUSO', 5.0)]\n",
      "A1JBEKU5TYIWE7 [('B003ES5ZUU', 5.0), ('B000HPV3RW', 5.0), ('B000N99BBC', 5.0), ('B002V88HFE', 5.0), ('B00BOHNYU6', 5.0)]\n",
      "A1JUBRIZMO0RJV [('B0019EHU8G', 5.0), ('B0002LEMWE', 4.985505243912533), ('B001TH7GUU', 4.945881777204333), ('B000N99BBC', 4.880447835294752), ('B002WE0QN8', 4.876722922136395)]\n",
      "A1JWSDDIH5Z7DV [('B00113XADE', 5.0), ('B007P6Y1T8', 5.0), ('B009LL9VDG', 5.0), ('B005LS2FS6', 5.0), ('B000Q8UAWY', 5.0)]\n",
      "A1JZFGZEZVWQPY [('B001TH7GUU', 4.743104673490116), ('B002V8C3W2', 4.656582882784327), ('B0019EHU8G', 4.5926842810529385), ('B005OK73GU', 4.578034150522798), ('B0002LEMWE', 4.567234017493905)]\n",
      "A1K4G5YJDJQI6Q [('B0052SCU8U', 3.7090684733591632), ('B004CLYEFK', 3.6710609033342734), ('B005LFT3GG', 3.5934212998815074), ('B003ES5ZUU', 3.5781832604529473), ('B005DJNRQM', 3.577423523854131)]\n",
      "A1KD8NJPZ01R37 [('B003ES5ZUU', 4.403192692782842), ('B000N99BBC', 4.389756702018853), ('B001P05NBA', 4.367242218753737), ('B0007TC38Q', 4.303756452080979), ('B00006I5BG', 4.30370920968734)]\n",
      "A1KDUQ2HU0WD68 [('B00029U1DK', 4.9557916601449294), ('B003ES5ZR8', 4.901919607258467), ('B009NHWVIA', 4.893426503345237), ('B00BOHNYU6', 4.886091396490687), ('B003ES5ZUU', 4.881702434452025)]\n",
      "A1KI7YHQEOS1RB [('B002WE0QN8', 5.0), ('B0052SCU8U', 5.0), ('B0012GQZZU', 5.0), ('B001TH7GUU', 5.0), ('B005DQG5SC', 5.0)]\n",
      "A1KKE6VX8VPWZK [('B003ES5ZUU', 5.0), ('B000HPV3RW', 5.0), ('B000N99BBC', 5.0), ('B001KB6Z2U', 5.0), ('B0019EHU8G', 5.0)]\n",
      "A1KSNK256G46GX [('B003ES5ZUU', 5.0), ('B0019EHU8G', 5.0), ('B002V88HFE', 5.0), ('B0052SCU8U', 5.0), ('B001TH7GUU', 5.0)]\n",
      "A1KWPIORLG2QV [('B00113XADE', 5.0), ('B009LL9VDG', 5.0), ('B000Q8UAWY', 5.0), ('B005CLPP8E', 5.0), ('B005EHHM5A', 5.0)]\n",
      "A1KXJCXS6HFRQZ [('B000N99BBC', 4.843932020427341), ('B0019EHU8G', 4.843804338026952), ('B002WE0QN8', 4.748225222509962), ('B0002JARO8', 4.734828442866787), ('B000M2TAN4', 4.7012502656360935)]\n",
      "A1KY5G5FP31F2F [('B003ES5ZUU', 5.0), ('B000HPV3RW', 5.0), ('B002669XKY', 5.0), ('B0002LEMWE', 5.0), ('B00AJHDZSI', 5.0)]\n",
      "A1L0P1ZP5FD6EC [('B003ES5ZUU', 5.0), ('B000N99BBC', 5.0), ('B0052SCU8U', 5.0), ('B004CLYEFK', 5.0), ('B001TH7GUU', 5.0)]\n",
      "A1L1N3J6XNABO2 [('B001CF60R4', 5.0), ('B000HPV3RW', 5.0), ('B0002LEMWE', 5.0), ('B00AJHDZSI', 5.0), ('B001O5CCQK', 5.0)]\n",
      "A1L5TA5UQF7EWE [('B00004ZCB4', 4.342100054952583), ('B002TF6NZU', 4.322861306046583), ('B005LW580O', 4.318994292606016), ('B002PU9SQU', 4.312312374517688), ('B003TJR2HS', 4.310471795072356)]\n",
      "A1L64KDYO5BOJA [('B003ES5ZUU', 5.0), ('B0002LEMWE', 5.0), ('B00AJHDZSI', 5.0), ('B005DIQ2OC', 5.0), ('B004CLYEFK', 5.0)]\n",
      "A1LA4K5JF78BER [('B0052SCU8U', 4.937438069960749), ('B000N99BBC', 4.937110557055879), ('B00BQ4F9ZA', 4.929519807905451), ('B003ES5ZUU', 4.927026282923946), ('B004QK7HI8', 4.888231820503476)]\n",
      "A1LAGS8H4A2DR7 [('B0052SCU8U', 4.744519327638872), ('B00006I53X', 4.55273594731615), ('B003ES5ZUU', 4.529043579435586), ('B00009XVCZ', 4.517469849014853), ('B0019EHU8G', 4.515010791682039)]\n",
      "A1LD5SE8IZ1H70 [('B002V8C3W2', 4.969107716687537), ('B001OXRTVU', 4.922195725763322), ('B00829TIA4', 4.9047909856458345), ('B00BOHNYU6', 4.866613991641219), ('B000BY52NK', 4.842568550816738)]\n",
      "A1LHMSY3Q46PJS [('B002V8C3W2', 4.890891248386182), ('B000N99BBC', 4.875972946094265), ('B000VX6XL6', 4.858838417302514), ('B003ES5ZUU', 4.845742584326467), ('B008HO9DK4', 4.840178834594959)]\n",
      "A1LYMYNURB9EWW [('B0019EHU8G', 4.6325312116623225), ('B0052SCU8U', 4.432605871904108), ('B004LCKZJO', 4.396095158887573), ('B00DILLPLQ', 4.390124697468637), ('B0012GK3MQ', 4.389613096802226)]\n",
      "A1M7HP5CHDXXOU [('B00007EDM8', 5.0), ('B000VE4PNS', 4.965868562220095), ('B002KL8N6A', 4.959804410230646), ('B001TH7GUU', 4.94593094046927), ('B003CJTQJC', 4.924543308298699)]\n",
      "A1MBXP3NZM2BUO [('B003ES5ZUU', 5.0), ('B000HPV3RW', 5.0), ('B000N99BBC', 5.0), ('B0019EHU8G', 5.0), ('B00BOHNYU6', 5.0)]\n",
      "A1MCH5RXDOH87H [('B001TH7GUU', 4.218828094244763), ('B0012MMW7E', 4.199901572390059), ('B000292DO0', 4.1748575624944815), ('B004CLYEFK', 4.172046845812067), ('B00BQ4F9ZA', 4.171761347402652)]\n",
      "A1MEISNED4NP7U [('B000Q8UAWY', 5.0), ('B005CLPP8E', 5.0), ('B000LRMS66', 5.0), ('B0077YTFPS', 5.0), ('B0097BEFYA', 5.0)]\n",
      "A1MFAPVBW9BEGD [('B00284ALF0', 4.622015012686594), ('B00A0JUNYY', 4.481935996906616), ('B000BUK7KW', 4.4483271270054825), ('B002WE0QN8', 4.410392536473869), ('B000W3V3EM', 4.399152713741852)]\n",
      "A1MFPAM9TTRTXN [('B004YLCE2S', 5.0), ('B000Q8UAWY', 5.0), ('B005CLPP8E', 5.0), ('B007QWF9GK', 5.0), ('B00ALNPM2C', 5.0)]\n",
      "A1MFVAHTT2BHM0 [('B00004SB92', 4.807695096982749), ('B00FPKDPZC', 4.788775517266335), ('B0036AWR8E', 4.742720573042063), ('B001FWYGJS', 4.655287890138625), ('B000M17AVO', 4.637907637288368)]\n",
      "A1MJMYLRTZ76ZX [('B000N99BBC', 5.0), ('B001TH7GUU', 5.0), ('B0019EHU8G', 4.975684479805745), ('B003ES5ZUU', 4.951269624013793), ('B0052SCU8U', 4.862688437605935)]\n",
      "A1MNN0ZMHYPJDU [('B000Q8UAWY', 5.0), ('B005CLPP8E', 5.0), ('B0002SQ2P2', 5.0), ('B0090I9UG8', 5.0), ('B0082E9K7U', 5.0)]\n",
      "A1MQQEM7W77L62 [('B009H8JOZS', 5.0), ('B005P7XTJ2', 5.0), ('B0054JJ0QW', 5.0), ('B000HPV3RW', 5.0), ('B002SAOHH2', 5.0)]\n",
      "A1MRPX3RM48T2I [('B0002LEMWE', 5.0), ('B000N99BBC', 5.0), ('B0019EHU8G', 5.0), ('B007WTAJTO', 5.0), ('B001TH7GUU', 5.0)]\n",
      "A1MRRMHGV3PN5W [('B0019EHU8G', 4.828263202021565), ('B001TH7GUU', 4.666905061412288), ('B003ES5ZUU', 4.656903746415754), ('B001EYV9TM', 4.642291751836173), ('B0017HF3XO', 4.63298285827905)]\n",
      "A1MZL91Z44RN06 [('B001MX5YWI', 5.0), ('B0019EHU8G', 5.0), ('B0052SCU8U', 5.0), ('B00894YP00', 5.0), ('B001T9NUJE', 5.0)]\n",
      "A1N3EH28S4DI8L [('B000BTL0OA', 4.589947980592452), ('B000TKHBDK', 4.545430237541438), ('B001KB6Z2U', 4.538359221379813), ('B000N99BBC', 4.532895439076018), ('B002V88HFE', 4.5222849244151595)]\n",
      "A1N5FSCYN4796F [('B00009EHJV', 4.504908150674023), ('B000053HC5', 4.487739852442066), ('B0007ZAK4O', 4.442819033877604), ('B000VX6XL6', 4.4403416585133), ('B00AJHDZSI', 4.402862988806527)]\n",
      "A1NAA1R38JSNHV [('B00002EQCW', 5.0), ('B003ES5ZUU', 5.0), ('B000HPV3RW', 5.0), ('B0002LEMWE', 5.0), ('B000N99BBC', 5.0)]\n",
      "A1NGFGBX2VCQS8 [('B0019EHU8G', 4.77460204522478), ('B00316263Y', 4.7018215371830285), ('B000V1XICU', 4.678275503319615), ('B00829TIA4', 4.673419299299308), ('B000M2TAN4', 4.643886440669825)]\n",
      "A1NJHKPHD4YWZV [('B0052SCU8U', 4.922052378750931), ('B001TH7GUU', 4.826681582097713), ('B005FYNSPK', 4.754969847545978), ('B0054JJ0QW', 4.753898613972931), ('B002V8C3W2', 4.748644884430519)]\n",
      "A1NMM0RDRF6R84 [('B00015GYU4', 4.971459226548082), ('B004W2JKWG', 4.956409760414588), ('B0002LEMWE', 4.912438980643655), ('B007FGYZFI', 4.902378121924762), ('B004PYDE1E', 4.895301988556293)]\n",
      "A1NNMOD9H36Q8E [('B0019EHU8G', 4.654930161433207), ('B001TH7GUU', 4.622106665782078), ('B005DQG5SC', 4.613140984797962), ('B0002LEMWE', 4.604604306143559), ('B002MCZJ78', 4.604313697130118)]\n",
      "A1NQFT941TOTT7 [('B000BTL0OA', 4.156779932747352), ('B00004ZA7W', 4.017649238755034), ('B00EYW9DSU', 4.014904582971395), ('B0052SCU8U', 4.009572321891495), ('B00BIFNTMC', 3.9841159707677636)]\n",
      "A1NRMTQ5SZPZA [('B0052SCU8U', 4.9513157567455695), ('B005HMKKH4', 4.890422343738176), ('B003ES5ZUU', 4.8554719845078855), ('B001TH7GUU', 4.848161044384642), ('B000N99BBC', 4.830321809842147)]\n",
      "A1NZLRAZJGD99W [('B0052SCU8U', 4.7265356409860235), ('B00009W3DS', 4.634584725245653), ('B001TH7GUU', 4.593757237722998), ('B00003CWDQ', 4.583315073757494), ('B001XHBNN2', 4.55909756048974)]\n",
      "A1O229NVVDJUX2 [('B0019EHU8G', 4.871656828562739), ('B0052SCU8U', 4.6872027723597), ('B00J222IJI', 4.67013202294087), ('B0041OSAZ8', 4.666527896547906), ('B000N99BBC', 4.664649029648641)]\n",
      "A1OA2ZW406NQXM [('B001TH7GUU', 5.0), ('B003ES5ZUU', 4.934492326518782), ('B001T9NUJE', 4.842387548695568), ('B002L0TJXQ', 4.81160784639024), ('B0019EHU8G', 4.802883844361208)]\n",
      "A1ODOGXEYECQQ8 [('B0052SCU8U', 5.0), ('B001TH7GUU', 4.89502631657509), ('B004CLYEFK', 4.894572824676297), ('B00BQ4F9ZA', 4.893417743202427), ('B0041OSAZ8', 4.888628612982779)]\n",
      "A1OES7R7FDAT2L [('B007WTAJTO', 5.0), ('B001TH7GUU', 5.0), ('B002V8C3W2', 5.0), ('B0052SCU8U', 4.992611048965833), ('B00IUF7VKE', 4.977035225383972)]\n",
      "A1OGCPMSIVK7G4 [('B003ES5ZUU', 5.0), ('B000M2TAN4', 5.0), ('B0025VKUQQ', 5.0), ('B0007TSYCK', 5.0), ('B000096B01', 5.0)]\n",
      "A1OH33MR6K4G5J [('B001TH7GUU', 4.687142415397897), ('B0019EHU8G', 4.668269288278491), ('B00007EDM8', 4.615556240050119), ('B0052SCU8U', 4.585829270272126), ('B0012GK3MQ', 4.562951416624803)]\n",
      "A1OMXVXXP07F05 [('B0019EHU8G', 4.906464999506822), ('B0052SCU8U', 4.858913011405139), ('B001TH7GUU', 4.837110479308166), ('B00009XVCZ', 4.815068530716604), ('B005QX7KYU', 4.795288759980181)]\n",
      "A1OO9N1MRNQ7K0 [('B000LRMS66', 5.0), ('B009W8YQ6K', 5.0), ('B0090I9UG8', 5.0), ('B000069EUW', 5.0), ('B0054JJ0QW', 5.0)]\n",
      "A1P0JSFW184ZXJ [('B0002SQ2P2', 5.0), ('B000HPV3RW', 5.0), ('B000IF51UQ', 5.0), ('B000N99BBC', 5.0), ('B005FYNSPK', 5.0)]\n",
      "A1P3DDFL423B3C [('B00004SB92', 4.458701848218381), ('B0011ZCDKS', 4.446898565241165), ('B004ELA0SS', 4.4309416940243125), ('B00005LEOS', 4.420414823599189), ('B000N99BBC', 4.4074913716266275)]\n",
      "A1P4XD7IORSEFN [('B001TH7GUU', 4.463395285673291), ('B0002LEMWE', 4.456875431431301), ('B003VWU79I', 4.44566496169619), ('B0016BVKAQ', 4.42496860993283), ('B0019EHU8G', 4.409522093466673)]\n",
      "A1PAGHECG401K1 [('B0019EHU8G', 5.0), ('B001T9NUJE', 4.9897467083963924), ('B005QX7KYU', 4.962288065601019), ('B003CFATT2', 4.952827755467104), ('B005FYNSPK', 4.9105032409915506)]\n",
      "A1PEXTGNF36I1Q [('B0077YTFPS', 5.0), ('B00108UNEY', 5.0), ('B00006HSYC', 5.0), ('B003ES5ZUU', 5.0), ('B000HPV3RW', 5.0)]\n",
      "A1PI8VBCXXSGC7 [('B0019EHU8G', 5.0), ('B001TH7GUU', 4.936409322309118), ('B0052SCU8U', 4.831483614276336), ('B007WTAJTO', 4.82417884935438), ('B002V88HFE', 4.755940096697275)]\n",
      "A1PL7QILVQV3IF [('B003ES5ZUU', 4.701739562363208), ('B000N99BBC', 4.617445776603401), ('B0019EHU8G', 4.552120272120473), ('B00FJWKYYG', 4.521107888794493), ('B0025VKUQQ', 4.509029712171927)]\n",
      "A1PM7HH4F77NEH [('B003ES5ZUU', 5.0), ('B000N99BBC', 5.0), ('B002WE0QN8', 4.963013741886955), ('B001E1Y5O6', 4.911510430485079), ('B000IF51UQ', 4.865966114423385)]\n",
      "A1PN2U0AWXGVML [('B003ES5ZUU', 5.0), ('B002MCZJ78', 5.0), ('B001KB6Z2U', 5.0), ('B0019EHU8G', 5.0), ('B00BOHNYU6', 5.0)]\n",
      "A1PPS91NLI7KEH [('B0019EHU8G', 4.712165863137777), ('B004QK7HI8', 4.679266032806801), ('B000N99BBC', 4.6742429757044714), ('B000IF51UQ', 4.600285895538886), ('B002V8C3W2', 4.594368902468755)]\n",
      "A1PS4OYWUB0VX [('B001TH7GUU', 5.0), ('B005HMKKH4', 5.0), ('B00AJHDZSI', 4.9785057813435225), ('B003ES5ZR8', 4.977371766241289), ('B0052SCU8U', 4.957310936974764)]\n",
      "A1PSVZBM894R5H [('B0002LEMWE', 4.208390264819309), ('B0052SCU8U', 4.167353049533368), ('B000WHSFYY', 4.160539210445005), ('B00D5Q75RC', 4.132736920063721), ('B0010CLL2I', 4.1047763369354024)]\n",
      "A1PV5T5S4D5NPI [('B00A83I8G2', 5.0), ('B003ES5ZUU', 5.0), ('B00829TIA4', 5.0), ('B000N99BBC', 5.0), ('B0001MQUOC', 5.0)]\n",
      "A1PVJICI412IN4 [('B000N99BBC', 4.739179820568884), ('B006U3O566', 4.690290295613664), ('B0026NAC02', 4.648401166616699), ('B005HMKKH4', 4.637973471539737), ('B00746W3HG', 4.6190831222147235)]\n",
      "A1PVX61PRPVX27 [('B000Q8UAWY', 5.0), ('B0077YTFPS', 5.0), ('B000ERAOL4', 5.0), ('B0053T4PHC', 5.0), ('B002HWRJY4', 5.0)]\n",
      "A1Q5P5ML3176C0 [('B003ES5ZUU', 4.790346497577437), ('B0052SCU8U', 4.737296318884318), ('B00029U1DK', 4.6525000447701705), ('B001253842', 4.640869141327734), ('B000N99BBC', 4.627369090890153)]\n",
      "A1QJ10LEINDRWW [('B000N99BBC', 4.947624057011441), ('B002V8C3W2', 4.909706201179375), ('B00829THK0', 4.820029624709572), ('B005DOUJL8', 4.783017449361593), ('B007MX9XU6', 4.773100906995515)]\n",
      "A1QLQCJVGCQPP0 [('B000N99BBC', 4.595721884583737), ('B001PIBE8I', 4.5490495266698785), ('B0019EHU8G', 4.542983157565842), ('B000W3V3EM', 4.492569744305625), ('B0018MB9U4', 4.477904639725372)]\n",
      "A1QNYLBG73QRNF [('B00007E89K', 4.773171624053153), ('B00176GWT4', 4.767755050816419), ('B002JQNXZC', 4.712775945289887), ('B000O5TH14', 4.707685787660289), ('B00EIF0E0Y', 4.705262313586828)]\n",
      "A1QOIHVQC5XWCJ [('B003ES5ZUU', 5.0), ('B000HPV3RW', 5.0), ('B000N99BBC', 5.0), ('B0019EHU8G', 5.0), ('B002HWRZ2K', 5.0)]\n",
      "A1QOK9LU90ACF7 [('B0019EHU8G', 4.768230717179574), ('B00FZ9SMVU', 4.724607521858872), ('B000819IX6', 4.684468157465954), ('B007FGYZFI', 4.666936615265496), ('B00006I53X', 4.665012853456937)]\n",
      "A1QQA7Y92L4F9R [('B003ES5ZUU', 5.0), ('B0044DEDC0', 5.0), ('B0041OSQ9I', 5.0), ('B0012GK3MQ', 5.0), ('B002V8C3W2', 5.0)]\n",
      "A1QRST0A3IQIEF [('B004YLCE2S', 5.0), ('B000Q8UAWY', 5.0), ('B005CLPP8E', 5.0), ('B000LRMS66', 5.0), ('B009B0MY6S', 5.0)]\n",
      "A1QVFHPY8418HC [('B003ES5ZUU', 5.0), ('B000N99BBC', 5.0), ('B00029U1DK', 5.0), ('B000VOU91U', 5.0), ('B0019EHU8G', 5.0)]\n",
      "A1R19YYR5OR26T [('B0052SCU8U', 4.976435579680914), ('B000M2TAN4', 4.968117953543289), ('B005QX7KYU', 4.918275381097281), ('B0019EHU8G', 4.869369475557181), ('B00829TIA4', 4.816946403206291)]\n",
      "A1R377IPZOKLMM [('B000HPV3RW', 5.0), ('B00029U1DK', 5.0), ('B0019EHU8G', 5.0), ('B002V88HFE', 5.0), ('B00BOHNYU6', 5.0)]\n",
      "A1R3GN9MEJFXM3 [('B005CLPP8E', 5.0), ('B000LRMS66', 5.0), ('B008R3875C', 5.0), ('B002HZW7CK', 5.0), ('B0077YTFPS', 5.0)]\n"
     ]
    }
   ],
   "source": [
    "top_n = get_top_n(predictions, n=5)\n",
    "\n",
    "# Print the recommended items for each user\n",
    "for uid, user_ratings in top_n.items():\n",
    "    print(uid, user_ratings)"
   ]
  },
  {
   "cell_type": "markdown",
   "metadata": {
    "id": "iFgDK0JsQ2z8"
   },
   "source": [
    "# Summary\n",
    "\n",
    "* The mean RMSE, MSE and MAE after cross-validation for our user-user collaborative filtering model are 1.06, 0.80 and 1.14 which is pretty low considering the huge data set that we have.\n",
    "* There are a few predictions with the flag **was_possible = True** which either means that it was a new user or a product that has never been reveiwed.\n",
    "* If the user is new, we can recommend products using a popularity based commendation system.\n",
    "* The product recommendation model uses SVD algorithm gives us top-n results for every user which uses and anti-test data set which assigns a mean value to every product and for every user.\n",
    "The trained model is then made to predict ratings for every product by every user and then the top-n items are made to display.\n",
    "* Our SVD model performs a little better than KNNWithMeans model which gives us a mean RMSE, MSE and MAE of 1.00, 0.74 and 1.00 respectively. The RMSE and MSE is almost equal which is a very good sign."
   ]
  }
 ],
 "metadata": {
  "colab": {
   "collapsed_sections": [],
   "name": "Aditya_Kadiwal_Recommendation_systems_Jun_20A_Grp9.ipynb",
   "provenance": []
  },
  "kernelspec": {
   "display_name": "Python 3",
   "language": "python",
   "name": "python3"
  },
  "language_info": {
   "codemirror_mode": {
    "name": "ipython",
    "version": 3
   },
   "file_extension": ".py",
   "mimetype": "text/x-python",
   "name": "python",
   "nbconvert_exporter": "python",
   "pygments_lexer": "ipython3",
   "version": "3.8.5"
  }
 },
 "nbformat": 4,
 "nbformat_minor": 1
}
